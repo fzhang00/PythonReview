{
 "cells": [
  {
   "cell_type": "markdown",
   "metadata": {},
   "source": [
    "# Python Basics\n",
    "\n",
    "This notebook can be used as a cheatsheet for basic knowledge of Python. The content covered here does not only apply to Python, but most other programming languages. Complete all code block in this notebook, and use it as cheatsheet upon completion.\n",
    "\n",
    "## 1. Math Operators\n",
    "\n",
    "You can use Python console like a calculator. Here is a table of math operators, from highest to lowest precedence: \n",
    "\n",
    "| Operators | Operation         | Example         |\n",
    "| --------- | ----------------- | --------------- |\n",
    "| \\*\\*      | Exponent          | `2 ** 3 = 8`    |\n",
    "| %         | Modulus/Remainder | `5 % 2 = 1`    |\n",
    "| //        | Integer division  | `5 // 2 = 2`   |\n",
    "| /         | Division          | `22 / 8 = 2.75` |\n",
    "| \\*        | Multiplication    | `3 * 3 = 9`     |\n",
    "| -         | Subtraction       | `5 - 2 = 3`     |\n",
    "| +         | Addition          | `2 + 2 = 4`     |\n",
    "\n",
    "In the code cells below, write math expression to complete the calculation"
   ]
  },
  {
   "cell_type": "code",
   "execution_count": null,
   "metadata": {
    "vscode": {
     "languageId": "python"
    }
   },
   "outputs": [],
   "source": [
    "# Compute area of a rectangle,  width=3 and height=6\n",
    "3*6"
   ]
  },
  {
   "cell_type": "code",
   "execution_count": null,
   "metadata": {
    "vscode": {
     "languageId": "python"
    }
   },
   "outputs": [],
   "source": [
    "# What is \"5 to the third power\", \"5 to the power 3\" or simply \"5 cubed\"\n",
    "5**3"
   ]
  },
  {
   "cell_type": "markdown",
   "metadata": {},
   "source": [
    "## 2. Comments\n",
    "\n",
    "What symbol do you use to write comments in your code? Write a line of comment to explain the code below"
   ]
  },
  {
   "cell_type": "code",
   "execution_count": null,
   "metadata": {
    "vscode": {
     "languageId": "python"
    }
   },
   "outputs": [],
   "source": [
    "# this is a comment\n",
    "\"hello world\" # text after # on a code line is comment"
   ]
  },
  {
   "cell_type": "markdown",
   "metadata": {},
   "source": [
    "## 3. The print() function\n",
    "\n",
    "print() is used by a Python program to display information on the console. the print() function can accept multiple input arguments. "
   ]
  },
  {
   "cell_type": "code",
   "execution_count": 4,
   "metadata": {
    "vscode": {
     "languageId": "python"
    }
   },
   "outputs": [
    {
     "name": "stdout",
     "output_type": "stream",
     "text": [
      "Hello world\n"
     ]
    }
   ],
   "source": [
    "# print a sentence to the output\n",
    "print(\"Hello world\")"
   ]
  },
  {
   "cell_type": "code",
   "execution_count": 6,
   "metadata": {
    "vscode": {
     "languageId": "python"
    }
   },
   "outputs": [
    {
     "name": "stdout",
     "output_type": "stream",
     "text": [
      "234.345872\n"
     ]
    }
   ],
   "source": [
    "# print a number to the output\n",
    "print(234.3458720)"
   ]
  },
  {
   "cell_type": "code",
   "execution_count": 15,
   "metadata": {
    "vscode": {
     "languageId": "python"
    }
   },
   "outputs": [
    {
     "name": "stdout",
     "output_type": "stream",
     "text": [
      "this guys name is John , he is 221 years old.\n",
      "This guys name is John, he is 221 years old.\n"
     ]
    }
   ],
   "source": [
    "# print a sentence that says \"<Someone> is <n> years old.\". \n",
    "# Make <Someone> and <n> variables that store a person's name, and that person's age. \n",
    "person=\"John\"\n",
    "old=221\n",
    "print(\"this guys name is\", person, \", he is\", old, \"years old.\")\n",
    "print(f\"This guys name is {person}, he is {old} years old.\")"
   ]
  },
  {
   "cell_type": "markdown",
   "metadata": {},
   "source": [
    "## 4. The input() Function\n",
    "This function takes the input from the user and converts it into a string:"
   ]
  },
  {
   "cell_type": "code",
   "execution_count": 19,
   "metadata": {
    "vscode": {
     "languageId": "python"
    }
   },
   "outputs": [],
   "source": [
    "# Use input() function to ask for a person's name\n",
    "input(\"What is your name\")"
   ]
  },
  {
   "cell_type": "markdown",
   "metadata": {},
   "source": [
    "## 5.Variable\n",
    "\n",
    "Program use variables to store data. Variable has a name and value. Name is the label of the storage location; and value is the data that got stored. \n",
    "\n",
    "The ```=``` sign should not read \"Equal\". Instead, it should be read \"Assign\". ```a = 2``` reads assign value 2 to variable \"a\". \n",
    "\n",
    "There are rules naming a variable:\n",
    "\n",
    "### 5.1 Define Some Variables"
   ]
  },
  {
   "cell_type": "code",
   "execution_count": null,
   "metadata": {
    "vscode": {
     "languageId": "python"
    }
   },
   "outputs": [],
   "source": [
    "# Define a variable to store the string \"Hello world\"\n",
    "c = \"Hello world\""
   ]
  },
  {
   "cell_type": "code",
   "execution_count": null,
   "metadata": {
    "vscode": {
     "languageId": "python"
    }
   },
   "outputs": [],
   "source": [
    "# Define another variable to store number 45\n",
    "age = 45"
   ]
  },
  {
   "cell_type": "code",
   "execution_count": null,
   "metadata": {
    "vscode": {
     "languageId": "python"
    }
   },
   "outputs": [],
   "source": [
    "# Define a variable to store user's information you get from the input() function\n",
    "fruit = input(\"What fruit do you like?\")\n",
    "fruit"
   ]
  },
  {
   "cell_type": "markdown",
   "metadata": {},
   "source": [
    "### 5.2 Math expression using variable\n",
    "\n",
    "Try to write math expression to solve the following problems:"
   ]
  },
  {
   "cell_type": "code",
   "execution_count": 21,
   "metadata": {
    "vscode": {
     "languageId": "python"
    }
   },
   "outputs": [
    {
     "data": {
      "text/plain": [
       "408"
      ]
     },
     "execution_count": 21,
     "metadata": {},
     "output_type": "execute_result"
    }
   ],
   "source": [
    "# What is the area of the rectangle\n",
    "width=12\n",
    "height=34\n",
    "area = width*height\n",
    "area"
   ]
  },
  {
   "cell_type": "code",
   "execution_count": 35,
   "metadata": {
    "vscode": {
     "languageId": "python"
    }
   },
   "outputs": [],
   "source": [
    "# How to divide the candies fairly?\n",
    "number_of_candy=643\n",
    "number_of_people=12\n",
    "number_of_candy_per_person = number_of_candy // number_of_people # to get a integer result\n",
    "number_of_candy_per_person_f = number_of_candy / number_of_people # to get a float number"
   ]
  },
  {
   "cell_type": "markdown",
   "metadata": {},
   "source": [
    "## 6. Conditional Statement\n",
    "\n",
    "Program decide what to do by evaluating conditional statement. We write conditional statement using comparison operators. Results of evaluating conditional statement can either be ```True``` or ```False```. See a list of comparison operators below: \n",
    "\n",
    "| Operator | Meaning                  |\n",
    "| -------- | ------------------------ |\n",
    "| `==`     | Equal to                 |\n",
    "| `!=`     | Not equal to             |\n",
    "| `<`      | Less than                |\n",
    "| `>`      | Greater Than             |\n",
    "| `<=`     | Less than or Equal to    |\n",
    "| `>=`     | Greater than or Equal to |\n",
    "\n",
    "Write some conditional statements according to the questions so your code answers the question. \n"
   ]
  },
  {
   "cell_type": "code",
   "execution_count": 36,
   "metadata": {
    "vscode": {
     "languageId": "python"
    }
   },
   "outputs": [
    {
     "data": {
      "text/plain": [
       "True"
      ]
     },
     "execution_count": 36,
     "metadata": {},
     "output_type": "execute_result"
    }
   ],
   "source": [
    "# Does 42 equals to 42?\n",
    "42==42"
   ]
  },
  {
   "cell_type": "code",
   "execution_count": 37,
   "metadata": {
    "vscode": {
     "languageId": "python"
    }
   },
   "outputs": [
    {
     "data": {
      "text/plain": [
       "False"
      ]
     },
     "execution_count": 37,
     "metadata": {},
     "output_type": "execute_result"
    }
   ],
   "source": [
    "# Is 40 bigger than 42?\n",
    "40>42"
   ]
  },
  {
   "cell_type": "code",
   "execution_count": 38,
   "metadata": {
    "vscode": {
     "languageId": "python"
    }
   },
   "outputs": [
    {
     "data": {
      "text/plain": [
       "False"
      ]
     },
     "execution_count": 38,
     "metadata": {},
     "output_type": "execute_result"
    }
   ],
   "source": [
    "# Is the string \"Hello\" same as the string \"hello\"?\n",
    "\"Hello\"==\"hello\""
   ]
  },
  {
   "cell_type": "code",
   "execution_count": 39,
   "metadata": {
    "vscode": {
     "languageId": "python"
    }
   },
   "outputs": [
    {
     "data": {
      "text/plain": [
       "True"
      ]
     },
     "execution_count": 39,
     "metadata": {},
     "output_type": "execute_result"
    }
   ],
   "source": [
    "# Is the string \"cat\" different from \"cats\"?\n",
    "\"cat\" != \"cats\""
   ]
  },
  {
   "cell_type": "markdown",
   "metadata": {},
   "source": [
    "## 7. Boolean Operators\n",
    "\n",
    "There are three Boolean operators: `and`, `or`, and `not`. You can use boolean operator to join multiple conditions.\n",
    "\n",
    "The `and` Operator’s _Truth_ Table:\n",
    "\n",
    "| Expression        | Evaluates to |\n",
    "| ----------------- | ------------ |\n",
    "| `True and True`   | `True`       |\n",
    "| `True and False`  | `False`      |\n",
    "| `False and True`  | `False`      |\n",
    "| `False and False` | `False`      |\n",
    "\n",
    "The `or` Operator’s _Truth_ Table:\n",
    "\n",
    "| Expression       | Evaluates to |\n",
    "| ---------------- | ------------ |\n",
    "| `True or True`   | `True`       |\n",
    "| `True or False`  | `True`       |\n",
    "| `False or True`  | `True`       |\n",
    "| `False or False` | `False`      |\n",
    "\n",
    "The `not` Operator’s _Truth_ Table:\n",
    "\n",
    "| Expression  | Evaluates to |\n",
    "| ----------- | ------------ |\n",
    "| `not True`  | `False`      |\n",
    "| `not False` | `True`       |\n",
    "\n",
    "Write some joint conditions according to the description\n",
    "\n",
    "Example of ```and```\n",
    "\n",
    "A and B and C: if all A, B, C conditions are true ==> True\n",
    "\n",
    "```or```\n",
    "if any of A, B, C condition is True, A or B or C ==> True"
   ]
  },
  {
   "cell_type": "code",
   "execution_count": 41,
   "metadata": {
    "vscode": {
     "languageId": "python"
    }
   },
   "outputs": [
    {
     "data": {
      "text/plain": [
       "False"
      ]
     },
     "execution_count": 41,
     "metadata": {},
     "output_type": "execute_result"
    }
   ],
   "source": [
    "# name is \"Jane\" and age older than 30. (Variable defined for you.)\n",
    "name = \"Jack\"\n",
    "age = 34\n",
    "(name==\"Jane\") and (age>30)"
   ]
  },
  {
   "cell_type": "code",
   "execution_count": 43,
   "metadata": {
    "vscode": {
     "languageId": "python"
    }
   },
   "outputs": [
    {
     "data": {
      "text/plain": [
       "True"
      ]
     },
     "execution_count": 43,
     "metadata": {},
     "output_type": "execute_result"
    }
   ],
   "source": [
    "# temperature in between 10 and 20. (Variable defined for you.)\n",
    "temperature = 14\n",
    "temperature > 10 and temperature < 20"
   ]
  },
  {
   "cell_type": "markdown",
   "metadata": {},
   "source": [
    "## 8 The `if` Statement\n",
    "\n",
    "`if` statement is used by program to make decision. Depending on the evaluation of condition, program is able to branch out to different tasks. \n",
    "\n",
    "* The `if` statement evaluates an conditional statement, and if that expression is True, it then executes the following indented code'\n",
    "* The `else` statement executes only if the evaluation of the `if` and all the `elif` expressions are False\n",
    "\n",
    "```python\n",
    "if <condition_1>:\n",
    "    <statement_1> # execute statement_1 when condition_1 is True\n",
    "elif <condition_2>:\n",
    "    <statement_2> # execute statement_2 if condition_1 is False, but condition_2 is True\n",
    "else:\n",
    "    <statement_3> # execute stateuemtn_3 if all conditions are False\n",
    "```"
   ]
  },
  {
   "cell_type": "code",
   "execution_count": 53,
   "metadata": {
    "vscode": {
     "languageId": "python"
    }
   },
   "outputs": [
    {
     "name": "stdout",
     "output_type": "stream",
     "text": [
      "Hello Alice\n"
     ]
    }
   ],
   "source": [
    "# Check if the name is \"Alice\". If True, print \"Hello Alice\", otherwise, print \"You are not Alice\"\n",
    "name = input(\"What is your name?\")\n",
    "if name == \"Alice\":\n",
    "   print(\"Hello Alice\")\n",
    "else:\n",
    "   print(\"You are not Alice\")\n"
   ]
  },
  {
   "cell_type": "code",
   "execution_count": 55,
   "metadata": {
    "vscode": {
     "languageId": "python"
    }
   },
   "outputs": [
    {
     "name": "stdout",
     "output_type": "stream",
     "text": [
      "hello Alice\n"
     ]
    }
   ],
   "source": [
    "# Check if the name is \"Alice\". If True, print \"Hello Alice\",\n",
    "# If not Alice, check if the name is \"George\", If True, print \"Hello George\"\n",
    "# If not Alice or George, ask \"Who are you\"\n",
    "\n",
    "import random\n",
    "\n",
    "name = random.choice([\"Alice\",\"George\",\"Someone\"])\n",
    "\n",
    "if (name == \"Alice\"):\n",
    "    print('hello Alice')\n",
    "elif(name == \"George\"):\n",
    "    print('hello George')\n",
    "else:\n",
    "    print(input(\"Who are you?\"))\n",
    "\n"
   ]
  },
  {
   "cell_type": "markdown",
   "metadata": {},
   "source": [
    "## 9. The `while` Loop\n",
    "\n",
    "While loop also relie on conditional statement to operate. Statement in the `while` block is executed as long as the conditional statement is `True`\n",
    "\n",
    "```python\n",
    "while <condition>:\n",
    "    # do something\n",
    "# condition is false\n",
    "# out of the while loop\n",
    "```\n"
   ]
  },
  {
   "cell_type": "code",
   "execution_count": 57,
   "metadata": {
    "vscode": {
     "languageId": "python"
    }
   },
   "outputs": [
    {
     "name": "stdout",
     "output_type": "stream",
     "text": [
      "0\n",
      "1\n",
      "2\n",
      "3\n",
      "4\n",
      "5\n",
      "6\n",
      "7\n",
      "8\n",
      "9\n",
      "10\n"
     ]
    }
   ],
   "source": [
    "# Use a while loop to print 0 to 10.\n",
    "# Hint: Define a variable with a value of 0\n",
    "#       In the while loop, print the variable and increment the variable by 1 \n",
    "#       Control when you should exit the loop by writing a conditional statement for the while loop.\n",
    "number = 0\n",
    "while number < 11:\n",
    "    print(number)\n",
    "    number = number + 1"
   ]
  },
  {
   "cell_type": "markdown",
   "metadata": {},
   "source": [
    "### 9.1 The `break` Statement\n",
    "\n",
    "`break` statement is used to exit a loop. For example: \n",
    "\n",
    "```python\n",
    "while True:\n",
    "    if <condition_1>:\n",
    "        break  # break the loop when condition_1 is True\n",
    "    <run task>\n",
    "```\n",
    "\n",
    "```python\n",
    "while <normal_condition_to_exit_loop>:\n",
    "    if <condition to exit earlier>:\n",
    "        break\n",
    "    <run some task>\n",
    "```\n",
    "\n"
   ]
  },
  {
   "cell_type": "code",
   "execution_count": 59,
   "metadata": {
    "vscode": {
     "languageId": "python"
    }
   },
   "outputs": [
    {
     "name": "stdout",
     "output_type": "stream",
     "text": [
      "0\n",
      "1\n",
      "2\n",
      "3\n",
      "4\n",
      "5\n",
      "6\n",
      "7\n",
      "8\n",
      "9\n",
      "10\n"
     ]
    }
   ],
   "source": [
    "# Change the while loop code above to use break instead. \n",
    "# number = 0\n",
    "number = 0\n",
    "while True:\n",
    "    if number == 11:\n",
    "        break\n",
    "    print(number)\n",
    "    number = number + 1"
   ]
  },
  {
   "cell_type": "markdown",
   "metadata": {},
   "source": [
    "### 9.2 The `continue` Statement\n",
    "\n",
    "`continue` statement is used to return to the beginning of the loop skipping all tasks after it. For example:\n",
    "\n",
    "```python\n",
    "while True:\n",
    "    <run task 1>\n",
    "    if <condition_1>:\n",
    "        continue\n",
    "    <run task 2>  # task 2 won't be run if condition_1 is True"
   ]
  },
  {
   "cell_type": "code",
   "execution_count": 60,
   "metadata": {
    "vscode": {
     "languageId": "python"
    }
   },
   "outputs": [],
   "source": [
    "# Use a while loop to check a person's name, \n",
    "# if the name matches \"Joe\", ask the user to enter password, otherwise, keep asking for name\n",
    "# if the password matches \"swordfish\", break the loop\n",
    "# Example input and output:\n",
    "    # What's your name? Jack\n",
    "    # What's your name? Jane\n",
    "    # What's your name? Joe\n",
    "    # What's your password? swordfish\n",
    "while True:\n",
    "    name = input(\"What's your name?\")\n",
    "    if name != \"Joe\":\n",
    "        continue\n",
    "    password = input(\"Please enter the password.\")\n",
    "    if password == \"swordfish\":\n",
    "        break"
   ]
  },
  {
   "cell_type": "code",
   "execution_count": 63,
   "metadata": {
    "vscode": {
     "languageId": "python"
    }
   },
   "outputs": [],
   "source": [
    "while True:\n",
    "    name = input('What is your name')\n",
    "    if name == \"Joe\":\n",
    "        password = input(\"What is your password\")\n",
    "        if password == \"swordfish\":\n",
    "            break"
   ]
  },
  {
   "cell_type": "markdown",
   "metadata": {},
   "source": [
    "9.3 Use system.exit() to exit a Program\n",
    "\n",
    "Sometimes we use `while True:` to make a program run forever and exit only when certain condition occurs. In this case, we can either break out of the loop if there no other code after the `while` loop. If there is more code after the `while` loop, breaking the loop won't work. The solution is use sys.exit(). To use sys.exit(), we need to first import sys.\n",
    "\n",
    "For example:\n",
    "\n",
    "```python\n",
    "import sys\n",
    "while True:\n",
    "    if <condition_1>:\n",
    "        sys.exit()\n",
    "    <run some tasks>\n",
    "<run some other tasks>\n",
    "```"
   ]
  },
  {
   "cell_type": "markdown",
   "metadata": {},
   "source": [
    "## 10 The `for` Loop\n",
    "\n",
    "The for loop iterates over a list, tuple, dictionary, set or string:\n",
    "\n",
    "```python\n",
    "for i in my_list:\n",
    "    print(i) # i holds each element in a list"
   ]
  },
  {
   "cell_type": "code",
   "execution_count": 64,
   "metadata": {
    "vscode": {
     "languageId": "python"
    }
   },
   "outputs": [
    {
     "name": "stdout",
     "output_type": "stream",
     "text": [
      "Apple\n",
      "Pear\n",
      "Grape\n"
     ]
    }
   ],
   "source": [
    "# Define a list and use a for loop to print each element of the list\n",
    "food = [\"Apple\", \"Pear\", \"Grape\" ]\n",
    "for x in food:\n",
    "    print(x)\n"
   ]
  },
  {
   "cell_type": "markdown",
   "metadata": {},
   "source": [
    "### 10.1 `range()` Function"
   ]
  },
  {
   "cell_type": "code",
   "execution_count": 69,
   "metadata": {
    "vscode": {
     "languageId": "python"
    }
   },
   "outputs": [
    {
     "name": "stdout",
     "output_type": "stream",
     "text": [
      "10\n",
      "12\n",
      "14\n",
      "16\n",
      "18\n",
      "20\n"
     ]
    }
   ],
   "source": [
    "# use range() function in for statement to print number from 10 to 15\n",
    "# Hint: range() can take 3 input parameters: range(start, stop, step)\n",
    "for i in range(10, 16):\n",
    "    print(i)"
   ]
  },
  {
   "cell_type": "code",
   "execution_count": null,
   "metadata": {
    "vscode": {
     "languageId": "python"
    }
   },
   "outputs": [],
   "source": [
    "# print from 10 to 20, just the even number\n",
    "for i in range(10, 21, 2):\n",
    "    print(i)"
   ]
  },
  {
   "cell_type": "code",
   "execution_count": 70,
   "metadata": {
    "vscode": {
     "languageId": "python"
    }
   },
   "outputs": [
    {
     "name": "stdout",
     "output_type": "stream",
     "text": [
      "1\n",
      "3\n",
      "5\n",
      "7\n"
     ]
    }
   ],
   "source": [
    "a = [1,3,5,7]\n",
    "for i in range(len(a)):\n",
    "    print(a[i])"
   ]
  },
  {
   "cell_type": "markdown",
   "metadata": {},
   "source": [
    "### 10.2 Loop over a String\n",
    "\n",
    "String is treated like a list in Python. Same as looping through a list, when loop over a string, you get one letter out of a string at a time"
   ]
  },
  {
   "cell_type": "code",
   "execution_count": 71,
   "metadata": {
    "vscode": {
     "languageId": "python"
    }
   },
   "outputs": [
    {
     "name": "stdout",
     "output_type": "stream",
     "text": [
      "A\n",
      "r\n",
      "i\n",
      "t\n",
      "h\n",
      "m\n",
      "e\n",
      "t\n",
      "i\n",
      "c\n"
     ]
    }
   ],
   "source": [
    "# Use a for loop to print each letter from the word \"Arithmetic\"\n",
    "for i in \"Arithmetic\": #sequence\n",
    "    print(i)"
   ]
  },
  {
   "cell_type": "markdown",
   "metadata": {},
   "source": [
    "## 11 Function\n",
    "\n",
    "A function is a block of organized code that is used to perform a single task. They provide better modularity for your application and reuse-ability.\n",
    "\n",
    "Template of defining a function:\n",
    "\n",
    "```python\n",
    "def function_name(input_1, input_2, input_3):\n",
    "    output = <do something with the input>\n",
    "    return output\n",
    "```"
   ]
  },
  {
   "cell_type": "code",
   "execution_count": 83,
   "metadata": {
    "vscode": {
     "languageId": "python"
    }
   },
   "outputs": [
    {
     "name": "stdout",
     "output_type": "stream",
     "text": [
      "1\n"
     ]
    }
   ],
   "source": [
    "# Define a generic function named \"area\" to calculate area of a rectangle\n",
    "# Hint: What inputs do you need to calculate area of a rectangle? \n",
    "#       Make them the input parameters to the function. \n",
    "def area(width, height):\n",
    "    output = width * height\n",
    "    return output"
   ]
  },
  {
   "cell_type": "code",
   "execution_count": 5,
   "metadata": {
    "vscode": {
     "languageId": "python"
    }
   },
   "outputs": [],
   "source": [
    "# Call your function to calculate the area of a rectangle with width of 123 and height of 456\n",
    "width = float(input(\"Enter width\"))\n",
    "height = float(input(\"Enter height:\"))\n",
    "area(width, height)"
   ]
  },
  {
   "cell_type": "markdown",
   "metadata": {},
   "source": [
    "### 11.1 Local and Global Scope\n",
    "\n",
    "* Variables created within a function belongs to the local scope of that function. \n",
    "* Code in global scope cannot access variable created within a local scope\n",
    "* Code in local scope can read varialbe created in global scope when declare it as global. \n",
    "* A function can change global variable if the variable is declared as global in the function. "
   ]
  },
  {
   "cell_type": "code",
   "execution_count": 10,
   "metadata": {
    "vscode": {
     "languageId": "python"
    }
   },
   "outputs": [
    {
     "name": "stdout",
     "output_type": "stream",
     "text": [
      "In function, global variable can be read: I am a global variable\n"
     ]
    }
   ],
   "source": [
    "# Write code to verify this statement: \n",
    "#   Code in local scope can read varialbe created in global scope, but cannot change it. \n",
    "global_var = \"I am a global variable\"\n",
    "def print_global():\n",
    "    print(\"In function, global variable can be read:\", global_var)\n",
    "\n",
    "print_global()"
   ]
  },
  {
   "cell_type": "code",
   "execution_count": 13,
   "metadata": {
    "vscode": {
     "languageId": "python"
    }
   },
   "outputs": [
    {
     "name": "stdout",
     "output_type": "stream",
     "text": [
      "In function, global variable can be read: I am a global variable.\n",
      "New value in global_var: I am a global variable, and I am changed.\n"
     ]
    }
   ],
   "source": [
    "# Revise the above code so that your function can change the value of the global variable. \n",
    "global_var = \"I am a global variable.\"\n",
    "def print_global():\n",
    "    global global_var\n",
    "    print(\"In function, global variable can be read:\", global_var)\n",
    "    global_var = \"I am a global variable, and I am changed.\"\n",
    "\n",
    "print_global() # running this function prints the original value and then change it\n",
    "print(\"New value in global_var:\", global_var)"
   ]
  },
  {
   "cell_type": "markdown",
   "metadata": {},
   "source": []
  }
 ],
 "metadata": {
  "kernelspec": {
   "display_name": "\"Python/Mu (mu_venv-38-20220106-202512)\"",
   "language": "python",
   "name": "mu_venv-38-20220106-202512"
  },
  "orig_nbformat": 4,
  "vscode": {
   "interpreter": {
    "hash": "dcf368014b27bb3254173b76bb6992cea9090102976aee39c670588da3dd7f8e"
   }
  }
 },
 "nbformat": 4,
 "nbformat_minor": 2
}
