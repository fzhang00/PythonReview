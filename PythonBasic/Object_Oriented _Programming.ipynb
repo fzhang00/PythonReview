{
 "cells": [
  {
   "cell_type": "markdown",
   "metadata": {},
   "source": [
    "# Object Oriented Programming\n",
    "\n",
    "## ```class```\n",
    "\n",
    "Object oriented programming is a design paradigm (model) to structure code and data. \n",
    "\n",
    "Object is constructed by calling ```Class```. Object has its own attributes (data) and methods (function). Calss is the tempate for creating object. Like using a cookie cutter (class) to make cookies (objects). \n",
    "\n",
    "* A class is defined by using keyword ```class```\n",
    "* Class name convention: \n",
    "    * Use Camel case\n",
    "    * Do not use underscore\n",
    "    * Example: Cookie, MyCookie\n",
    "* ```__init__()``` method is used to create a new object. This method is called whenever a new object is instantiated. \n",
    "    * ```__init__()``` can accept input arguments.\n",
    "    * All attribute should be declare in the ```__init__()``` method. \n",
    "    * If the initial value is unkonwn, use ```None```\n",
    "* All class method must have the first input argument: self\n",
    "\n",
    "Example:\n",
    "```python\n",
    "class MyClass:\n",
    "    def __init__(self, input1, input2):\n",
    "        self.a = input1\n",
    "        self.b = input2\n",
    "```"
   ]
  },
  {
   "cell_type": "code",
   "execution_count": null,
   "metadata": {},
   "outputs": [],
   "source": [
    "# Create a simple class Wall that can be used to instantiate a interior wall object. \n",
    "# A wall object has attributes:\n",
    "#   * width (float) for horizontal length of the wall\n",
    "#   * height (float) for vertical length of the wall\n",
    "#   * area (float) calculated from width and height\n",
    "#   * room (string) the room that the wall belong to\n",
    "#   * color (string) color of the wall\n",
    "#   * Paint brand (string) \n",
    "#   * Sheen type of the wall\n",
    "class Wall:\n",
    "    def _init_(self, width, height, room, color=\"White\"):\n",
    "        self.width = width\n",
    "        self.height = height\n",
    "        self.area = width*height\n",
    "        self.room = room\n",
    "        self.color = color"
   ]
  },
  {
   "cell_type": "code",
   "execution_count": 18,
   "metadata": {},
   "outputs": [],
   "source": [
    "# Instantiate a wall object and print its attributes\n",
    "width = float(input(\"Enter wall width:\"))\n",
    "height = 10\n",
    "a_wall = Wall(width, height)\n",
    "b_wall = Wall(width=14, color=\"Red\", height=13)\n",
    "print(a_wall.width)\n",
    "print(a_wall.color)\n",
    "print(b_wall.width)"
   ]
  },
  {
   "cell_type": "markdown",
   "metadata": {},
   "source": [
    "## Methods\n",
    "\n",
    "Methods are like functions defined within the scope of a class. Example\n",
    "\n",
    "```python\n",
    "class MyClass:\n",
    "    def __init__(self):\n",
    "        self.a = 'Hello'\n",
    "        \n",
    "    def change_a(self, new_string):\n",
    "        self.a = new_string\n",
    "```"
   ]
  },
  {
   "cell_type": "code",
   "execution_count": 1,
   "metadata": {},
   "outputs": [],
   "source": [
    "# Add a method to your wall object to change the color of the wall. \n",
    "# Note, other than the color, sheen and paint brand usually change when changing wall color. \n",
    "class Wall:\n",
    "    def _init_(self, width, height, room, color=\"White\"):\n",
    "        self.width = width\n",
    "        self.height = height\n",
    "        self.area = width*height\n",
    "        self.room = room\n",
    "        self.color = color\n",
    "    \n",
    "    def change_color(self, color):\n",
    "        self.color = color\n",
    "\n",
    "a_wall = Wall(12, 13, \"Red\")\n",
    "print(\"Before:\", a_wall.color)\n",
    "a_wall.change_color(\"green\")\n",
    "print(\"After:\", a_wall.color)"
   ]
  },
  {
   "cell_type": "markdown",
   "metadata": {},
   "source": [
    "## Property\n",
    "\n",
    "Python allows user to directly read and write object attributes by ```object_name.attribute_name```. However, in some causes for the purpose of protecting attributes and have flexibility in future update of the class, we can also write methods to read and write attributes. \n",
    "\n",
    "* The method to read attribute is called the getter.\n",
    "* The method to write attribute is called the setter. \n",
    "\n",
    "Python uses the property decorator make a method to act like the attribute. The actual attribute must be made private. By Pytnon convension, a private attribute has a prefixed underscore ```_``` before their name. Here is an example:\n",
    "\n",
    "```python\n",
    "class MyClass:\n",
    "    def __init__(self):\n",
    "        self._a=None\n",
    "    \n",
    "    # This is the getter\n",
    "    @property\n",
    "    def a(self)\n",
    "        return self._a\n",
    "\n",
    "    # This is the setter\n",
    "    @a.setter\n",
    "    def a(self, new_value):\n",
    "        # Check input new_value\n",
    "        self._a = new_value\n",
    "```"
   ]
  },
  {
   "cell_type": "code",
   "execution_count": 4,
   "metadata": {},
   "outputs": [],
   "source": [
    "# Modify the Wall class. \n",
    "# Write a getter and setter method for the width attribute. \n",
    "# In the setter method, check the new value is number before assigning to the attribute.\n",
    "class Wall:\n",
    "    def __init__(self, width, height, room):\n",
    "        self._width = width\n",
    "        self.height = height\n",
    "        self.area = width*height\n",
    "        self.room = room\n",
    "\n",
    "@property\n",
    "def width(self):\n",
    "    return self._width\n",
    "\n",
    "@width.setter\n",
    "def width(self, w):\n",
    "    print(\"in setter\")\n",
    "    if isinstance(w, float) or isinstance(w, int):\n",
    "        self._width = w\n",
    "    else:\n",
    "        print(\"Error\")\n"
   ]
  },
  {
   "cell_type": "code",
   "execution_count": 5,
   "metadata": {},
   "outputs": [],
   "source": [
    "c_wall = Wall(12, 17, \"Kitchen\")\n",
    "c_wall.width = 15\n",
    "c_wall.width = \"slhtgoa;ewr\""
   ]
  },
  {
   "cell_type": "code",
   "execution_count": 3,
   "metadata": {},
   "outputs": [
    {
     "data": {
      "text/plain": [
       "'slhtgoa;ewr'"
      ]
     },
     "execution_count": 3,
     "metadata": {},
     "output_type": "execute_result"
    }
   ],
   "source": [
    "c_wall.width"
   ]
  }
 ],
 "metadata": {
  "kernelspec": {
   "display_name": "Python 3.9.13 ('invest39')",
   "language": "python",
   "name": "python3"
  },
  "language_info": {
   "codemirror_mode": {
    "name": "ipython",
    "version": 3
   },
   "file_extension": ".py",
   "mimetype": "text/x-python",
   "name": "python",
   "nbconvert_exporter": "python",
   "pygments_lexer": "ipython3",
   "version": "3.9.13"
  },
  "orig_nbformat": 4,
  "vscode": {
   "interpreter": {
    "hash": "c9ccd35357c2805d1fe771a99bf3fa79c2ab9a04306a396e457d492619ad82bd"
   }
  }
 },
 "nbformat": 4,
 "nbformat_minor": 2
}
