{
 "cells": [
  {
   "cell_type": "markdown",
   "metadata": {},
   "source": [
    "# Object Oriented Programming\n",
    "\n",
    "## ```class```\n",
    "\n",
    "Object oriented programming is a design paradigm (model) to structure code and data. \n",
    "\n",
    "Object is constructed by calling ```Class```. Object has its own attributes (data) and methods (function). Calss is the tempate for creating object. Like using a cookie cutter (class) to make cookies (objects). \n",
    "\n",
    "* A class is defined by using keyword ```class```\n",
    "* Class name convention: \n",
    "    * Use Camel case\n",
    "    * Do not use underscore\n",
    "    * Example: Cookie, MyCookie\n",
    "* ```__init__()``` method is used to create a new object. This method is called whenever a new object is instantiated. \n",
    "    * ```__init__()``` can accept input arguments.\n",
    "    * All attribute should be declare in the ```__init__()``` method. \n",
    "    * If the initial value is unkonwn, use ```None```\n",
    "* All class method must have the first input argument: self\n",
    "\n",
    "Example:\n",
    "```python\n",
    "class MyClass:\n",
    "    def __init__(self, input1, input2):\n",
    "        self.a = input1\n",
    "        self.b = input2\n",
    "        self.c = None\n",
    "```"
   ]
  },
  {
   "cell_type": "code",
   "execution_count": 5,
   "metadata": {},
   "outputs": [],
   "source": [
    "# Create a simple class Wall that can be used to instantiate a interior wall object. \n",
    "# A wall object has attributes:\n",
    "#   * width (float) for horizontal length of the wall\n",
    "#   * height (float) for vertical length of the wall\n",
    "#   * area (float) calculated from width and height\n",
    "#   * room (string) the room that the wall belong to\n",
    "#   * color (string) color of the wall\n",
    "#   * Paint brand (string) \n",
    "#   * Sheen type of the wall\n",
    "\n",
    "class Wall:\n",
    "    def __init__(self, width, height, colour=\"White\"):\n",
    "        self.width = width\n",
    "        self.height = height\n",
    "        self.area = self.width * self.height\n",
    "        self.colour = colour # Default colour is white if user didn't enter value for this input"
   ]
  },
  {
   "cell_type": "code",
   "execution_count": 22,
   "metadata": {},
   "outputs": [
    {
     "name": "stdout",
     "output_type": "stream",
     "text": [
      "4.7382091473281904e+35\n",
      "4.732819047231095e+34\n",
      "2.2425086502239464e+70\n",
      "Green\n"
     ]
    }
   ],
   "source": [
    "# Instantiate a wall object and print its attributes\n",
    "\n",
    "width = float(input(\"Enter wall width:\"))\n",
    "height = float(input(\"Enter wall height:\"))\n",
    "area = float(width * height)\n",
    "\n",
    "a_wall = Wall(width=width, height=height, colour=\"White\")\n",
    "\n",
    "print(a_wall.width)\n",
    "print(a_wall.height)\n",
    "print(a_wall.area)\n",
    "print(a_wall.colour)"
   ]
  },
  {
   "cell_type": "markdown",
   "metadata": {},
   "source": [
    "## Methods\n",
    "\n",
    "Methods are like functions defined within the scope of a class. Example\n",
    "\n",
    "```python\n",
    "class MyClass:\n",
    "    def __init__(self):\n",
    "        self.a = 'Hello'\n",
    "        \n",
    "    def change_a(self, new_string):\n",
    "        self.a = new_string\n",
    "\n",
    "a_wall.change_a(\"new string\")\n",
    "```"
   ]
  },
  {
   "cell_type": "code",
   "execution_count": 24,
   "metadata": {},
   "outputs": [],
   "source": [
    "# Add a method to your wall object to change the color of the wall. \n",
    "# Note, other than the color, sheen and paint brand usually change when changing wall color. \n",
    "\n",
    "class Wall:\n",
    "    def __init__(self, width, height, colour=\"White\"):\n",
    "        self.width = width\n",
    "        self.height = height\n",
    "        self.area = self.width * self.height\n",
    "        self.colour = colour\n",
    "    def change_color(self, colour):\n",
    "        self.ch_colour = colour"
   ]
  },
  {
   "cell_type": "code",
   "execution_count": 1,
   "metadata": {},
   "outputs": [
    {
     "name": "stdout",
     "output_type": "stream",
     "text": [
      "Colour unavailable\n",
      "fdshjakfhdslafdsahf\n"
     ]
    }
   ],
   "source": [
    "# Re-instantiate a wall object, then use the new method to change the wall color.\n",
    "\n",
    "_THE_COLOUR_LIST = (\"Red\", \"Blue\", \"White\")\n",
    "\n",
    "class Wall:\n",
    "    def __init__(self, width, height, colour=\"White\"):\n",
    "        self.width = width\n",
    "        self.height = height\n",
    "        self.area = self.width * self.height\n",
    "        self.colour = colour\n",
    "    \n",
    "    def change_color(self, colour):\n",
    "        if colour in THE_COLOUR_LIST:\n",
    "            self.colour = colour\n",
    "        else:\n",
    "            print(\"Colour unavailable\")\n",
    "\n",
    "a_wall = Wall(10, 41, \"White\")\n",
    "a_wall.change_color(\"Light blue\")\n",
    "\n",
    "a_wall.colour = \"fdshjakfhdslafdsahf\"\n",
    "\n",
    "print(a_wall.colour)"
   ]
  },
  {
   "cell_type": "markdown",
   "metadata": {},
   "source": [
    "## Property\n",
    "\n",
    "Python allows user to directly read and write object attributes by ```object_name.attribute_name```. However, in some causes for the purpose of protecting attributes and have flexibility in future update of the class, we can also write methods to read and write attributes. \n",
    "\n",
    "* The method to read attribute is called the getter.\n",
    "* The method to write attribute is called the setter. \n",
    "\n",
    "Python uses the property decorator make a method to act like the attribute. The actual attribute must be made private. By Pytnon convension, a private attribute has a prefixed underscore ```_``` before their name. Here is an example:\n",
    "\n",
    "```python\n",
    "class MyClass:\n",
    "    def __init__(self):\n",
    "        self._a=None\n",
    "    \n",
    "    # This is the getter\n",
    "    @property\n",
    "    def a(self)\n",
    "        return self._a\n",
    "\n",
    "    # This is the setter\n",
    "    @a.setter\n",
    "    def a(self, new_value):\n",
    "        # Check input new_value\n",
    "        self._a = new_value\n",
    "```"
   ]
  },
  {
   "cell_type": "code",
   "execution_count": 44,
   "metadata": {},
   "outputs": [],
   "source": [
    "# Modify the Wall class. \n",
    "# Write a getter and setter method for the width attribute. \n",
    "# In the setter method, check the new value is number before assigning to the attribute. \n",
    "\n",
    "_THE_COLOUR_LIST =['Red', 'Blue', 'White']\n",
    "\n",
    "class Wall:\n",
    "    def __init__(self, width, height, colour=\"White\"):\n",
    "        self._width = width\n",
    "        self.height = height\n",
    "        self.area = self.width * self.height\n",
    "        self.colour = colour\n",
    "\n",
    "    def change_color(self, colour):\n",
    "        if color in _THE_COLOUR_LIST:\n",
    "            self.colour = colour\n",
    "        else:\n",
    "            print(\"Colour unavailable.\")\n",
    "\n",
    "    @property\n",
    "    def width(self):\n",
    "        return self._width\n",
    "\n",
    "    @width.setter\n",
    "    def width(self, new_value):\n",
    "        if isinstance(new_value, int) or isinstance(new_value, float):\n",
    "            self._width = new_value\n",
    "        else:\n",
    "            print(\"Error\")"
   ]
  },
  {
   "cell_type": "code",
   "execution_count": 57,
   "metadata": {},
   "outputs": [
    {
     "name": "stdout",
     "output_type": "stream",
     "text": [
      "5\n",
      "Error\n"
     ]
    }
   ],
   "source": [
    "a_wall = Wall(5, 8, 'Red')\n",
    "print(a_wall.width)\n",
    "a_wall.width = \"spsppspspspspsps\"\n"
   ]
  }
 ],
 "metadata": {
  "kernelspec": {
   "display_name": "Python 3.10.4 64-bit",
   "language": "python",
   "name": "python3"
  },
  "language_info": {
   "codemirror_mode": {
    "name": "ipython",
    "version": 3
   },
   "file_extension": ".py",
   "mimetype": "text/x-python",
   "name": "python",
   "nbconvert_exporter": "python",
   "pygments_lexer": "ipython3",
   "version": "3.10.4"
  },
  "orig_nbformat": 4,
  "vscode": {
   "interpreter": {
    "hash": "aee8b7b246df8f9039afb4144a1f6fd8d2ca17a180786b69acc140d282b71a49"
   }
  }
 },
 "nbformat": 4,
 "nbformat_minor": 2
}
