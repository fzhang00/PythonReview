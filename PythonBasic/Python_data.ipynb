{
 "cells": [
  {
   "cell_type": "markdown",
   "metadata": {},
   "source": [
    "# Data Types"
   ]
  },
  {
   "cell_type": "markdown",
   "metadata": {},
   "source": [
    "## 1. Numbers\n",
    "\n",
    "### 1.1 Integer"
   ]
  },
  {
   "cell_type": "code",
   "execution_count": null,
   "metadata": {},
   "outputs": [],
   "source": [
    "# Define a variable and assign an integer to it\n",
    "\n",
    "a_int = 1"
   ]
  },
  {
   "cell_type": "code",
   "execution_count": null,
   "metadata": {},
   "outputs": [],
   "source": [
    "# use type() to identify the data type of the variable you just created\n",
    "\n",
    "type(a_int)"
   ]
  },
  {
   "cell_type": "markdown",
   "metadata": {},
   "source": [
    "### 1.2 Float"
   ]
  },
  {
   "cell_type": "code",
   "execution_count": null,
   "metadata": {},
   "outputs": [],
   "source": [
    "# Define a variable  and assign an float number\n",
    "\n",
    "a_float = 0.5"
   ]
  },
  {
   "cell_type": "markdown",
   "metadata": {},
   "source": [
    "## 2. String"
   ]
  },
  {
   "cell_type": "code",
   "execution_count": null,
   "metadata": {},
   "outputs": [],
   "source": [
    "# Define a variable and assign a string of more than 10 characters\n",
    "\n",
    "this_string = \"Hello World!!\""
   ]
  },
  {
   "cell_type": "markdown",
   "metadata": {},
   "source": [
    "### 2.1 Indexing and Slicing Strings\n",
    "\n",
    "Indexing is used to obtain individual elements. Slicing: Slicing is used to obtain a sequence of elements. Indexing and slicing is not only used in strings, but also on list, tuple, range object, numpy arrays, etc. \n",
    "\n",
    "Example of indexing: \n",
    "\n",
    "```python\n",
    "a[1] # 2nd element of variable a\n",
    "```\n",
    " \n",
    "Example of slicing:\n",
    "\n",
    "```python\n",
    "a[2:5] # 3rd to 6th element of variable a\n",
    "```"
   ]
  },
  {
   "cell_type": "code",
   "execution_count": 104,
   "metadata": {},
   "outputs": [
    {
     "data": {
      "text/plain": [
       "(4893, 489301, 483190)"
      ]
     },
     "execution_count": 104,
     "metadata": {},
     "output_type": "execute_result"
    }
   ],
   "source": [
    "# Use indexing to print the 4th character\n",
    "\n",
    "a = 1324, 43821904, 4893, 489301, 483190, 4930124028, 488483921, 902189, 783147312, 4830921\n",
    "\n",
    "a[1]"
   ]
  },
  {
   "cell_type": "code",
   "execution_count": 105,
   "metadata": {},
   "outputs": [
    {
     "data": {
      "text/plain": [
       "(43821904, 4893, 489301, 483190, 4930124028, 488483921, 902189)"
      ]
     },
     "execution_count": 105,
     "metadata": {},
     "output_type": "execute_result"
    }
   ],
   "source": [
    "# Use slicing to print the 2nd to the 8th characters\n",
    "\n",
    "a[1:8]"
   ]
  },
  {
   "cell_type": "markdown",
   "metadata": {},
   "source": [
    "### 2.2 Loop on strings"
   ]
  },
  {
   "cell_type": "code",
   "execution_count": 110,
   "metadata": {},
   "outputs": [
    {
     "name": "stdout",
     "output_type": "stream",
     "text": [
      "L\n",
      "o\n",
      "o\n",
      "p\n",
      " \n",
      "t\n",
      "h\n",
      "i\n",
      "s\n",
      " \n",
      "s\n",
      "t\n",
      "r\n",
      "i\n",
      "n\n",
      "g\n",
      "g\n"
     ]
    }
   ],
   "source": [
    "# use for loop to loop through the string and print one character at a time.\n",
    "\n",
    "for c in \"Loop this stringg\":\n",
    "    print(c)"
   ]
  },
  {
   "cell_type": "markdown",
   "metadata": {},
   "source": [
    "### 2.3 Multi-line string"
   ]
  },
  {
   "cell_type": "code",
   "execution_count": 115,
   "metadata": {},
   "outputs": [
    {
     "name": "stdout",
     "output_type": "stream",
     "text": [
      "This string is across multiple lines\n",
      "that's actually\n",
      "pretty cool\n"
     ]
    }
   ],
   "source": [
    "# Define a variable with multi-line string\n",
    "\n",
    "multi_line_moment = \"\"\"This string is across multiple lines\n",
    "that's actually\n",
    "pretty cool\"\"\"\n",
    "\n",
    "print(multi_line_moment)"
   ]
  },
  {
   "cell_type": "markdown",
   "metadata": {},
   "source": [
    "### 2.4 Combine string"
   ]
  },
  {
   "cell_type": "code",
   "execution_count": 116,
   "metadata": {},
   "outputs": [
    {
     "data": {
      "text/plain": [
       "'Stiching two strings together :O'"
      ]
     },
     "execution_count": 116,
     "metadata": {},
     "output_type": "execute_result"
    }
   ],
   "source": [
    "# Use + to stitch two strings together\n",
    "\n",
    "\"Stiching t\" + \"wo strings together :O\""
   ]
  },
  {
   "cell_type": "markdown",
   "metadata": {},
   "source": [
    "### 2.5 String Manipulation Methods\n",
    "\n",
    "We've use several string manipulation methods. Let's summarize them here:\n",
    "\n",
    "|Method Name | Description |\n",
    "|------|---------|\n",
    "| split()   | Split a string with specific character |\n",
    "| lower()   | Convert string to lower case |\n",
    "| upper()   | Convert stromg tp i[[er case |\n",
    "| isupper() | Return True if string is all upper case |\n",
    "| islower() | Return True if string is all lower case |\n",
    "| startswith() | Return True if the string start with the given string |\n",
    "| endswith() | Return True if the string end with the given string |\n",
    "\n",
    "Examples:\n",
    "\n",
    "```python\n",
    "\"Hello world\".startswith(\"Hello\")\n",
    "# True\n",
    "\"abc124\".endswith(\"4\")\n",
    "# True\n",
    "```"
   ]
  },
  {
   "cell_type": "code",
   "execution_count": 133,
   "metadata": {},
   "outputs": [
    {
     "data": {
      "text/plain": [
       "'Captilizing this setence!'"
      ]
     },
     "execution_count": 133,
     "metadata": {},
     "output_type": "execute_result"
    }
   ],
   "source": [
    "# Test each method listed above\n",
    "\n",
    "\"Hello World\".split( )\n",
    "\"YOOOOOOOO\".lower()\n",
    "\"woah\".upper()\n",
    "\"IS THIS UPPERCASE?\".isupper()\n",
    "\"let's see if this is lowerCASE\".islower()\n",
    "\"This string starts with the word this right?\".startswith(\"This\")\n",
    "\"This string ends with the word right right? Yeah?\".endswith(\"right\")\n",
    "\n",
    "# Bonus\n",
    "\n",
    "\"captilizing this setence!\".capitalize()"
   ]
  },
  {
   "cell_type": "markdown",
   "metadata": {},
   "source": [
    "### 2.6 ```in``` and ```not in``` Operator\n",
    "\n",
    "```in``` and ```not in``` checks if the given element or sequence exists in another sequence. \n",
    "\n",
    "Example:\n",
    "\n",
    "```python\n",
    "'a' in 'abc'\n",
    "# True\n",
    "'d' not in 'abc'\n",
    "# True\n",
    "```"
   ]
  },
  {
   "cell_type": "markdown",
   "metadata": {},
   "source": [
    "## 3. List\n",
    "\n",
    "List is one of the basic data type in Python to store collections of data.\n",
    "\n",
    "* List are ordered\n",
    "* List elements can be mixed datatype\n",
    "* List element can be accessed by indexing and slicing"
   ]
  },
  {
   "cell_type": "code",
   "execution_count": 135,
   "metadata": {},
   "outputs": [],
   "source": [
    "# Define a list with 5 elements\n",
    "\n",
    "my_list = [1, 2, 3, 4, \"hi\", 0.5, \"yess\"]"
   ]
  },
  {
   "cell_type": "code",
   "execution_count": 137,
   "metadata": {},
   "outputs": [
    {
     "data": {
      "text/plain": [
       "[2, 3, 4]"
      ]
     },
     "execution_count": 137,
     "metadata": {},
     "output_type": "execute_result"
    }
   ],
   "source": [
    "# Use index and slicing to print the 2nd and 2 to 4 elements of the list\n",
    "\n",
    "my_list[1]\n",
    "\n",
    "my_list[1:4]"
   ]
  },
  {
   "cell_type": "markdown",
   "metadata": {},
   "source": [
    "### 3.1 List Manipulation"
   ]
  },
  {
   "cell_type": "code",
   "execution_count": 139,
   "metadata": {},
   "outputs": [
    {
     "data": {
      "text/plain": [
       "7"
      ]
     },
     "execution_count": 139,
     "metadata": {},
     "output_type": "execute_result"
    }
   ],
   "source": [
    "# What is the length of the list you just created?\n",
    "\n",
    "len(my_list)"
   ]
  },
  {
   "cell_type": "code",
   "execution_count": 143,
   "metadata": {},
   "outputs": [
    {
     "data": {
      "text/plain": [
       "[1, 2, 'changing it', 4, 'hi', 0.5, 'yess']"
      ]
     },
     "execution_count": 143,
     "metadata": {},
     "output_type": "execute_result"
    }
   ],
   "source": [
    "# Change the value of the 3rd element in the list\n",
    "\n",
    "my_list[2] = \"changing it\"\n",
    "\n",
    "my_list"
   ]
  },
  {
   "cell_type": "code",
   "execution_count": 145,
   "metadata": {},
   "outputs": [
    {
     "data": {
      "text/plain": [
       "[1, 2, 'changing it', 4, 'hi', 0.5, 'yess', 'Adding it']"
      ]
     },
     "execution_count": 145,
     "metadata": {},
     "output_type": "execute_result"
    }
   ],
   "source": [
    "# Add another element to the end of the list\n",
    "\n",
    "my_list.append(\"Adding it\")\n",
    "\n",
    "my_list"
   ]
  },
  {
   "cell_type": "code",
   "execution_count": 154,
   "metadata": {},
   "outputs": [
    {
     "data": {
      "text/plain": [
       "[1, 'inserting it', 2, 'changing it', 4, 'hi', 0.5, 'yess', 'Adding it']"
      ]
     },
     "execution_count": 154,
     "metadata": {},
     "output_type": "execute_result"
    }
   ],
   "source": [
    "# Insert an element at the 2nd position of the list\n",
    "\n",
    "my_list.insert(1, \"inserting it\")\n",
    "\n",
    "my_list"
   ]
  },
  {
   "cell_type": "markdown",
   "metadata": {},
   "source": [
    "### 3.2 ```in``` and ```not in``` Operator\n",
    "\n",
    "```in``` and ```not in``` operator applies to list just the same as strings"
   ]
  },
  {
   "cell_type": "code",
   "execution_count": 157,
   "metadata": {},
   "outputs": [
    {
     "data": {
      "text/plain": [
       "True"
      ]
     },
     "execution_count": 157,
     "metadata": {},
     "output_type": "execute_result"
    }
   ],
   "source": [
    "# use in and not in operator to check if an elelment exists in the list you defined\n",
    "\n",
    "1 in my_list\n",
    "# True\n",
    "\n",
    "\"change it\" in my_list\n",
    "# False\n",
    "\n",
    "\"Add it\" not in my_list"
   ]
  },
  {
   "cell_type": "markdown",
   "metadata": {},
   "source": [
    "### 3.3 For loop on list"
   ]
  },
  {
   "cell_type": "code",
   "execution_count": 158,
   "metadata": {},
   "outputs": [
    {
     "name": "stdout",
     "output_type": "stream",
     "text": [
      "1\n",
      "inserting it\n",
      "2\n",
      "changing it\n",
      "4\n",
      "hi\n",
      "0.5\n",
      "yess\n",
      "Adding it\n"
     ]
    }
   ],
   "source": [
    "# Loop through the list you created and print each element in the loop\n",
    "\n",
    "for e in my_list:\n",
    "    print(e)"
   ]
  },
  {
   "cell_type": "markdown",
   "metadata": {},
   "source": [
    "#"
   ]
  },
  {
   "cell_type": "markdown",
   "metadata": {},
   "source": [
    "## 4. Tuple"
   ]
  },
  {
   "cell_type": "markdown",
   "metadata": {},
   "source": [
    "* Tuple is a sequence with multiple element like a list\n",
    "* Tuple is not ordered\n",
    "* tuple cannot be changed\n",
    "\n",
    "Define a tuple by \n",
    "\n",
    "```python\n",
    "a_turtle = (4382901, 9048302, 234)"
   ]
  },
  {
   "cell_type": "code",
   "execution_count": 2,
   "metadata": {},
   "outputs": [
    {
     "data": {
      "text/plain": [
       "tuple"
      ]
     },
     "execution_count": 2,
     "metadata": {},
     "output_type": "execute_result"
    }
   ],
   "source": [
    "# Define a tuple\n",
    "\n",
    "this_tuple = (4372, 849, 90)\n",
    "\n",
    "type(this_tuple)"
   ]
  },
  {
   "cell_type": "code",
   "execution_count": 7,
   "metadata": {},
   "outputs": [
    {
     "data": {
      "text/plain": [
       "(4372, 849, 90)"
      ]
     },
     "execution_count": 7,
     "metadata": {},
     "output_type": "execute_result"
    }
   ],
   "source": [
    "# Write an example to indexing and slicing for accessing tuple element\n",
    "\n",
    "this_tuple = (4372, 849, 90)\n",
    "this_tuple[0:3]"
   ]
  },
  {
   "cell_type": "markdown",
   "metadata": {},
   "source": [
    "## 5. Dictionary\n",
    "\n",
    "Dictionary is another commonly used data type for storing collections of data. It is an orderred collection of ```key:value``` pairs.\n",
    "\n",
    "```python\n",
    "\n",
    "a_dictionary = {key1:value1, key2:value2}"
   ]
  },
  {
   "cell_type": "code",
   "execution_count": 64,
   "metadata": {},
   "outputs": [],
   "source": [
    "# Define a dictionary\n",
    "\n",
    "person = {\"name\": \"Johnson\", \"age\": 11, \"email\": \"Johnson@gmail.com\"}\n",
    "food = {\"Apple\": \"fruit\", \"Carrot\": \"vegtable\"}\n",
    "\n",
    "iss = {'craft':{'iss':{'people':[{'Name':'a1'}, {'Name':'a2'}],\n",
    "                       'position':(34, 656)},\n",
    "                'shenzhou':{'people':[{'Name':\"a1\"}, {'Name':'a2'}],\n",
    "                            'position':(234, 55)}\n",
    "               },\n",
    "        'total':2\n",
    "      }"
   ]
  },
  {
   "cell_type": "code",
   "execution_count": 13,
   "metadata": {},
   "outputs": [
    {
     "name": "stdout",
     "output_type": "stream",
     "text": [
      "dict_keys(['craft', 'total'])\n",
      "dict_keys(['iss', 'shenzhou'])\n",
      "dict_keys(['people', 'position'])\n"
     ]
    }
   ],
   "source": [
    "# challenge, decompose the iss dictionary to print content of each layer\n",
    "\n",
    "print(iss.keys())\n",
    "print(iss[\"craft\"].keys())\n",
    "print(iss[\"craft\"][\"shenzhou\"].keys())"
   ]
  },
  {
   "cell_type": "code",
   "execution_count": 25,
   "metadata": {},
   "outputs": [
    {
     "data": {
      "text/plain": [
       "'Johnson'"
      ]
     },
     "execution_count": 25,
     "metadata": {},
     "output_type": "execute_result"
    }
   ],
   "source": [
    "# Read a dictionary element by key\n",
    "\n",
    "person[\"name\"] # reads the dictionary by key and prints the value of that key"
   ]
  },
  {
   "cell_type": "code",
   "execution_count": 65,
   "metadata": {},
   "outputs": [
    {
     "name": "stdout",
     "output_type": "stream",
     "text": [
      "{'name': 'Johnson', 'age': 11, 'email': 'Johnson@gmail.com', 'IQ': '1000'}\n"
     ]
    }
   ],
   "source": [
    "# Add an additional key and value to the dictionary\n",
    "\n",
    "person[\"IQ\"] = \"1000\"\n",
    "\n",
    "print(person)"
   ]
  },
  {
   "cell_type": "code",
   "execution_count": 63,
   "metadata": {},
   "outputs": [
    {
     "data": {
      "text/plain": [
       "'Johnson'"
      ]
     },
     "execution_count": 63,
     "metadata": {},
     "output_type": "execute_result"
    }
   ],
   "source": [
    "# Delete an element from the dictionary\n",
    "\n",
    "del(person[\"IQ\"]) # straight up delete it with no value return\n",
    "\n",
    "person.pop(\"name\") # gives the value and deletes the key"
   ]
  },
  {
   "cell_type": "markdown",
   "metadata": {},
   "source": [
    "### 5.1 Loop a Dictionary\n",
    "\n",
    "Use \n",
    "\n",
    "```python\n",
    "for key, value in <dictionary>.items():\n",
    "    # some tasks\n",
    "```\n",
    "\n",
    "to loop through each element of a dictionary "
   ]
  },
  {
   "cell_type": "code",
   "execution_count": 74,
   "metadata": {},
   "outputs": [
    {
     "name": "stdout",
     "output_type": "stream",
     "text": [
      "name Johnson\n",
      "age 11\n",
      "email Johnson@gmail.com\n",
      "IQ 1000\n"
     ]
    }
   ],
   "source": [
    "# Loop a dictionary and print the key and value pair\n",
    "\n",
    "for key, value in person.items():\n",
    "    print(key, value)\n"
   ]
  },
  {
   "cell_type": "code",
   "execution_count": 97,
   "metadata": {},
   "outputs": [],
   "source": [
    "# the province dictionary\n",
    "\n",
    "province_dict = {'Guangdong' : 'Guangzhou', 'Guangxi' : 'Nanning', 'Tibet' : 'Lhasa', 'Xinjiang' : 'Urumqi', 'Gansu' : 'Lanzhou'}\n",
    "province_dict['Heilongjiang'] = \"Harbin\"\n",
    "province_dict['Anhui'] = 'Hefei'\n",
    "province_dict[\"Hebei\"] = \"Shijiazhuang\"\n",
    "province_dict['Jilin'] = \"Changchun\"\n",
    "province_dict['Beijing'] = 'Beijing'\n",
    "province_dict['Henan'] = 'Zhenzhou'\n",
    "province_dict['Shaanxi'] = \"Xi'an\"\n"
   ]
  },
  {
   "cell_type": "code",
   "execution_count": null,
   "metadata": {},
   "outputs": [],
   "source": [
    "# Another way of looping through a dictionary by just key:\n",
    "\n",
    "for key in province_dict:\n",
    "    print(key, province_dict[key])"
   ]
  },
  {
   "cell_type": "markdown",
   "metadata": {},
   "source": [
    "### 5.2 Checking if a key exists in a dictionary\n",
    "\n",
    "You can use ```in``` operator to check if a key is in a dictionary. Example:\n",
    "\n",
    "```python\n",
    "if <key> in <dictionary>:\n",
    "    # do something\n",
    "```"
   ]
  },
  {
   "cell_type": "code",
   "execution_count": 92,
   "metadata": {},
   "outputs": [
    {
     "name": "stdout",
     "output_type": "stream",
     "text": [
      "Beijing is in this dictionary lol\n"
     ]
    }
   ],
   "source": [
    "if \"Beijing\" in province_dict:\n",
    "    print(\"Beijing is in this dictionary lol\")"
   ]
  },
  {
   "cell_type": "code",
   "execution_count": 176,
   "metadata": {},
   "outputs": [
    {
     "name": "stdout",
     "output_type": "stream",
     "text": [
      "This city Beijing is a municipality\n"
     ]
    }
   ],
   "source": [
    "# loop through your province dictionary, if key in [\"Beijing\", \"Shanghai\", \"Chongqing\", \"Lianjin\"],\n",
    "# print \"This city <city name> is a municipality\"\n",
    "\n",
    "key = [\"Beijing\", \"Shanghai\", \"Chongqing\", \"Lianjin\"]\n",
    "\n",
    "for key, value in province_dict.items():\n",
    "    if key in [\"Beijing\", \"Shanghai\", \"Chongqing\", \"Lianjin\"]:\n",
    "         print(f\"This city {value} is a municipality\")"
   ]
  }
 ],
 "metadata": {
  "kernelspec": {
   "display_name": "Python 3.10.4 64-bit",
   "language": "python",
   "name": "python3"
  },
  "language_info": {
   "codemirror_mode": {
    "name": "ipython",
    "version": 3
   },
   "file_extension": ".py",
   "mimetype": "text/x-python",
   "name": "python",
   "nbconvert_exporter": "python",
   "pygments_lexer": "ipython3",
   "version": "3.10.4"
  },
  "orig_nbformat": 4,
  "vscode": {
   "interpreter": {
    "hash": "aee8b7b246df8f9039afb4144a1f6fd8d2ca17a180786b69acc140d282b71a49"
   }
  }
 },
 "nbformat": 4,
 "nbformat_minor": 2
}
