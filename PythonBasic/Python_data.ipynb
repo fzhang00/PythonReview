{
 "cells": [
  {
   "cell_type": "markdown",
   "metadata": {},
   "source": [
    "# Data Types"
   ]
  },
  {
   "cell_type": "markdown",
   "metadata": {},
   "source": [
    "## 1. Numbers\n",
    "\n",
    "### 1.1 Integer"
   ]
  },
  {
   "cell_type": "code",
   "execution_count": null,
   "metadata": {},
   "outputs": [],
   "source": [
    "# Define a variable and assign an integer to it"
   ]
  },
  {
   "cell_type": "code",
   "execution_count": null,
   "metadata": {},
   "outputs": [
    {
     "ename": "",
     "evalue": "",
     "output_type": "error",
     "traceback": [
      "\u001b[1;31mThe kernel failed to start as a dll could not be loaded.\n",
      "Click <a href='https://aka.ms/kernelFailuresDllLoad'>here</a> for more info."
     ]
    }
   ],
   "source": [
    "# use type() to identify the data type of the variable you just created"
   ]
  },
  {
   "cell_type": "markdown",
   "metadata": {},
   "source": [
    "### 1.2 Float"
   ]
  },
  {
   "cell_type": "code",
   "execution_count": null,
   "metadata": {},
   "outputs": [
    {
     "ename": "",
     "evalue": "",
     "output_type": "error",
     "traceback": [
      "\u001b[1;31mRunning cells with 'Python 3.7.11 ('invest')' requires ipykernel package.\n",
      "Run the following command to install 'ipykernel' into the Python environment. \n",
      "Command: 'conda install -n invest ipykernel --update-deps --force-reinstall'"
     ]
    }
   ],
   "source": [
    "# Define a variable  and assign an float number"
   ]
  },
  {
   "cell_type": "markdown",
   "metadata": {},
   "source": [
    "## 2. String"
   ]
  },
  {
   "cell_type": "code",
   "execution_count": null,
   "metadata": {},
   "outputs": [
    {
     "ename": "",
     "evalue": "",
     "output_type": "error",
     "traceback": [
      "\u001b[1;31mRunning cells with 'Python 3.7.11 ('invest')' requires ipykernel package.\n",
      "Run the following command to install 'ipykernel' into the Python environment. \n",
      "Command: 'conda install -n invest ipykernel --update-deps --force-reinstall'"
     ]
    }
   ],
   "source": [
    "# Define a variable and assign a string of more than 10 characters"
   ]
  },
  {
   "cell_type": "markdown",
   "metadata": {},
   "source": [
    "### 2.1 Indexing and Slicing Strings\n",
    "\n",
    "Indexing is used to obtain individual elements. Slicing: Slicing is used to obtain a sequence of elements. Indexing and slicing is not only used in strings, but also on list, tuple, range object, numpy arrays, etc. \n",
    "\n",
    "Example of indexing: \n",
    "\n",
    "```python\n",
    "a[1] # 2nd element of variable a\n",
    "```\n",
    " \n",
    "Example of slicing:\n",
    "\n",
    "```python\n",
    "a[2:5] # 3rd to 6th element of variable a\n",
    "```"
   ]
  },
  {
   "cell_type": "code",
   "execution_count": null,
   "metadata": {},
   "outputs": [],
   "source": [
    "# Use indexing to print the 4th character"
   ]
  },
  {
   "cell_type": "code",
   "execution_count": null,
   "metadata": {},
   "outputs": [],
   "source": [
    "# Use slicing to print the 2nd to the 8th characters"
   ]
  },
  {
   "cell_type": "markdown",
   "metadata": {},
   "source": [
    "### 2.2 Loop on strings"
   ]
  },
  {
   "cell_type": "code",
   "execution_count": null,
   "metadata": {},
   "outputs": [],
   "source": [
    "# use for loop to loop through the string and print one character at a time."
   ]
  },
  {
   "cell_type": "markdown",
   "metadata": {},
   "source": [
    "### 2.3 Multi-line string"
   ]
  },
  {
   "cell_type": "code",
   "execution_count": null,
   "metadata": {},
   "outputs": [],
   "source": [
    "# Define a variable with multi-line string\n"
   ]
  },
  {
   "cell_type": "markdown",
   "metadata": {},
   "source": [
    "### 2.4 Combine string"
   ]
  },
  {
   "cell_type": "code",
   "execution_count": 1,
   "metadata": {},
   "outputs": [],
   "source": [
    "# Use + to stitch two strings together"
   ]
  },
  {
   "cell_type": "markdown",
   "metadata": {},
   "source": [
    "### 2.5 String Manipulation Methods\n",
    "\n",
    "We've use several string manipulation methods. Let's summarize them here:\n",
    "\n",
    "|Method Name | Description |\n",
    "|------|---------|\n",
    "| split()   | Split a string with specific character |\n",
    "| lower()   | Convert string to lower case |\n",
    "| upper()   | Convert stromg tp i[[er case |\n",
    "| isupper() | Return True if string is all upper case |\n",
    "| islower() | Return True if string is all lower case |\n",
    "| startwith() | Return True if the string start with the given string |\n",
    "| endwidth() | Return True if the string end with the given string |\n",
    "\n",
    "Examples:\n",
    "\n",
    "```python\n",
    "\"Hello world\".startwith(\"Hello\")\n",
    "# True\n",
    "\"abc124\".endwidth(\"4\")\n",
    "# True\n",
    "```"
   ]
  },
  {
   "cell_type": "code",
   "execution_count": 2,
   "metadata": {},
   "outputs": [],
   "source": [
    "# Test each method listed above"
   ]
  },
  {
   "cell_type": "markdown",
   "metadata": {},
   "source": [
    "### 2.6 ```in``` and ```not in``` Operator\n",
    "\n",
    "```in``` and ```not in``` checks if the given element or sequence exists in another sequence. \n",
    "\n",
    "Example:\n",
    "\n",
    "```python\n",
    "'a' in 'abc'\n",
    "# True\n",
    "'d' not in 'abc'\n",
    "# True\n",
    "```"
   ]
  },
  {
   "cell_type": "markdown",
   "metadata": {},
   "source": [
    "## 3. List\n",
    "\n",
    "List is one of the basic data type in Python to store collections of data.\n",
    "\n",
    "* List are ordered\n",
    "* List elements can be mixed datatype\n",
    "* List element can be accessed by indexing and slicing"
   ]
  },
  {
   "cell_type": "code",
   "execution_count": null,
   "metadata": {},
   "outputs": [],
   "source": [
    "# Define a list with 5 elements"
   ]
  },
  {
   "cell_type": "code",
   "execution_count": 3,
   "metadata": {},
   "outputs": [],
   "source": [
    "# Use index and slicing to print the 2nd and 2 to 4 elements of the list"
   ]
  },
  {
   "cell_type": "markdown",
   "metadata": {},
   "source": [
    "### 3.1 List Manipulation"
   ]
  },
  {
   "cell_type": "code",
   "execution_count": 4,
   "metadata": {},
   "outputs": [],
   "source": [
    "# What is the length of the list you just created?"
   ]
  },
  {
   "cell_type": "code",
   "execution_count": 5,
   "metadata": {},
   "outputs": [],
   "source": [
    "# Change the value of the 3rd element in the list"
   ]
  },
  {
   "cell_type": "code",
   "execution_count": 6,
   "metadata": {},
   "outputs": [],
   "source": [
    "# Add another element to the end of the list"
   ]
  },
  {
   "cell_type": "code",
   "execution_count": 7,
   "metadata": {},
   "outputs": [],
   "source": [
    "# Insert an element at the 2nd position of the list"
   ]
  },
  {
   "cell_type": "markdown",
   "metadata": {},
   "source": []
  }
 ],
 "metadata": {
  "kernelspec": {
   "display_name": "Python 3.7.11 ('invest')",
   "language": "python",
   "name": "python3"
  },
  "language_info": {
   "codemirror_mode": {
    "name": "ipython",
    "version": 3
   },
   "file_extension": ".py",
   "mimetype": "text/x-python",
   "name": "python",
   "nbconvert_exporter": "python",
   "pygments_lexer": "ipython3",
   "version": "3.7.12"
  },
  "orig_nbformat": 4,
  "vscode": {
   "interpreter": {
    "hash": "dcf368014b27bb3254173b76bb6992cea9090102976aee39c670588da3dd7f8e"
   }
  }
 },
 "nbformat": 4,
 "nbformat_minor": 2
}
