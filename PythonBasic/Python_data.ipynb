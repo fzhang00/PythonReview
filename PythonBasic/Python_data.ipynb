{
 "cells": [
  {
   "cell_type": "markdown",
   "metadata": {},
   "source": [
    "# Data Types"
   ]
  },
  {
   "cell_type": "markdown",
   "metadata": {},
   "source": [
    "## 1. Numbers\n",
    "\n",
    "### 1.1 Integer"
   ]
  },
  {
   "cell_type": "code",
   "execution_count": 78,
   "metadata": {},
   "outputs": [],
   "source": [
    "# Define a variable and assign an integer to it\n",
    "a = 12"
   ]
  },
  {
   "cell_type": "code",
   "execution_count": 79,
   "metadata": {},
   "outputs": [
    {
     "data": {
      "text/plain": [
       "int"
      ]
     },
     "execution_count": 79,
     "metadata": {},
     "output_type": "execute_result"
    }
   ],
   "source": [
    "# use type() to identify the data type of the variable you just created\n",
    "type(a)"
   ]
  },
  {
   "cell_type": "markdown",
   "metadata": {},
   "source": [
    "### 1.2 Float"
   ]
  },
  {
   "cell_type": "code",
   "execution_count": 80,
   "metadata": {},
   "outputs": [],
   "source": [
    "# Define a variable  and assign an float number\n",
    "a = 12.0"
   ]
  },
  {
   "cell_type": "markdown",
   "metadata": {},
   "source": [
    "## 2. String"
   ]
  },
  {
   "cell_type": "code",
   "execution_count": 81,
   "metadata": {},
   "outputs": [],
   "source": [
    "# Define a variable and assign a string of more than 10 characters\n",
    "string_a = \"I really like corn\""
   ]
  },
  {
   "cell_type": "markdown",
   "metadata": {},
   "source": [
    "### 2.1 Indexing and Slicing Strings\n",
    "\n",
    "Indexing is used to obtain individual elements. Slicing: Slicing is used to obtain a sequence of elements. Indexing and slicing is not only used in strings, but also on list, tuple, range object, numpy arrays, etc. \n",
    "\n",
    "Example of indexing: \n",
    "\n",
    "```python\n",
    "a[1] # 2nd element of variable a\n",
    "```\n",
    " \n",
    "Example of slicing:\n",
    "\n",
    "```python\n",
    "a[2:5] # 3rd to 6th element of variable a\n",
    "```"
   ]
  },
  {
   "cell_type": "code",
   "execution_count": 82,
   "metadata": {},
   "outputs": [
    {
     "data": {
      "text/plain": [
       "'e'"
      ]
     },
     "execution_count": 82,
     "metadata": {},
     "output_type": "execute_result"
    }
   ],
   "source": [
    "# Use indexing to print the 4th character\n",
    "string_a[3]"
   ]
  },
  {
   "cell_type": "code",
   "execution_count": 83,
   "metadata": {},
   "outputs": [
    {
     "data": {
      "text/plain": [
       "' really'"
      ]
     },
     "execution_count": 83,
     "metadata": {},
     "output_type": "execute_result"
    }
   ],
   "source": [
    "# Use slicing to print the 2nd to the 8th characters\n",
    "string_a[1:8]"
   ]
  },
  {
   "cell_type": "markdown",
   "metadata": {},
   "source": [
    "### 2.2 Loop on strings"
   ]
  },
  {
   "cell_type": "code",
   "execution_count": 84,
   "metadata": {},
   "outputs": [
    {
     "name": "stdout",
     "output_type": "stream",
     "text": [
      "I\n",
      " \n",
      "a\n",
      "m\n",
      " \n",
      "a\n",
      " \n",
      "s\n",
      "t\n",
      "r\n",
      "i\n",
      "n\n",
      "g\n"
     ]
    }
   ],
   "source": [
    "# use for loop to loop through the string and print one character at a time.\n",
    "string_a = \"I am a string\"\n",
    "for c in string_a:\n",
    "    print(c)"
   ]
  },
  {
   "cell_type": "markdown",
   "metadata": {},
   "source": [
    "### 2.3 Multi-line string"
   ]
  },
  {
   "cell_type": "code",
   "execution_count": 85,
   "metadata": {},
   "outputs": [
    {
     "name": "stdout",
     "output_type": "stream",
     "text": [
      "This is a \n",
      "multi-line string. \n"
     ]
    }
   ],
   "source": [
    "# Define a variable with multi-line string\n",
    "multi_line_str = \"\"\"This is a \n",
    "multi-line string. \"\"\"\n",
    "print(multi_line_str)\n"
   ]
  },
  {
   "cell_type": "markdown",
   "metadata": {},
   "source": [
    "### 2.4 Combine string"
   ]
  },
  {
   "cell_type": "code",
   "execution_count": 86,
   "metadata": {},
   "outputs": [
    {
     "data": {
      "text/plain": [
       "'I want to eat a burger!!'"
      ]
     },
     "execution_count": 86,
     "metadata": {},
     "output_type": "execute_result"
    }
   ],
   "source": [
    "# Use + to stitch two strings together\n",
    "\"I want to eat \" + \"a burger!!\"\n"
   ]
  },
  {
   "cell_type": "markdown",
   "metadata": {},
   "source": [
    "### 2.5 String Manipulation Methods\n",
    "\n",
    "We've use several string manipulation methods. Let's summarize them here:\n",
    "\n",
    "|Method Name | Description |\n",
    "|------|---------|\n",
    "| split()   | Split a string with specific character |\n",
    "| lower()   | Convert string to lower case |\n",
    "| upper()   | Convert stromg tp upper case |\n",
    "| isupper() | Return True if string is all upper case |\n",
    "| islower() | Return True if string is all lower case |\n",
    "| startwith() | Return True if the string start with the given string |\n",
    "| endwidth() | Return True if the string end with the given string |\n",
    "\n",
    "* Strings are objects\n",
    "* Way to call method on object is ```object_name.method_name()```\n",
    "Examples:\n",
    "\n",
    "```python\n",
    "\"Hello world\".startwith(\"Hello\")\n",
    "# True\n",
    "\"abc124\".endwidth(\"4\")\n",
    "# True\n",
    "```"
   ]
  },
  {
   "cell_type": "code",
   "execution_count": 87,
   "metadata": {},
   "outputs": [],
   "source": [
    "# Test each method listed above\n",
    "# 1. split the name into first_name and last_name\n",
    "name = \"Natalie Jian\".split(\" \")\n",
    "first_name = name[0]\n",
    "last_name = name[1]"
   ]
  },
  {
   "cell_type": "code",
   "execution_count": 88,
   "metadata": {},
   "outputs": [
    {
     "data": {
      "text/plain": [
       "True"
      ]
     },
     "execution_count": 88,
     "metadata": {},
     "output_type": "execute_result"
    }
   ],
   "source": [
    "# Test the other methods.\n",
    "\"RANDOM TEXT\".lower() #change to lower\n",
    "\"random text\".upper() #CHange to upper\n",
    "\"lower text\".islower() #if text is lower it is true\n",
    "\"RANDOM TEXT TWO\".isupper() # if text is upper it is true\n",
    "\"Hello World\".startswith(\"Hello\") # if starts with the word in the () of startswith it is true\n",
    "\"Hello World\".endswith(\"World\") # if ends with the word in the () of endswith it is true"
   ]
  },
  {
   "cell_type": "markdown",
   "metadata": {},
   "source": [
    "### 2.6 ```in``` and ```not in``` Operator\n",
    "\n",
    "```in``` and ```not in``` checks if the given element or sequence exists in another sequence. \n",
    "\n",
    "Example:\n",
    "\n",
    "```python\n",
    "'a' in 'abc'\n",
    "# True\n",
    "'d' not in 'abc'\n",
    "# True\n",
    "```"
   ]
  },
  {
   "cell_type": "code",
   "execution_count": 89,
   "metadata": {},
   "outputs": [
    {
     "data": {
      "text/plain": [
       "True"
      ]
     },
     "execution_count": 89,
     "metadata": {},
     "output_type": "execute_result"
    }
   ],
   "source": [
    "'ice' in 'iceberg' #True\n",
    "'sushi' not in 'abcdefg'# True"
   ]
  },
  {
   "cell_type": "markdown",
   "metadata": {},
   "source": [
    "## 3. List\n",
    "\n",
    "List is one of the basic data type in Python to store collections of data.\n",
    "\n",
    "* List are ordered\n",
    "* List elements can be mixed datatype\n",
    "* List element can be accessed by indexing and slicing"
   ]
  },
  {
   "cell_type": "code",
   "execution_count": 90,
   "metadata": {},
   "outputs": [],
   "source": [
    "# Define a list with 5 elements\n",
    "list_str = ['a', 'b', 'c', 'd', 'e']\n",
    "list_num = [1,2,3,4,5]\n",
    "list_mixed = [1, 2, \"hi\", 3.5, 6]\n",
    "list_word = [\"Toy car\", \"homework with an F on it\", \"Yogurt\", \"Lego box\"]"
   ]
  },
  {
   "cell_type": "code",
   "execution_count": 91,
   "metadata": {},
   "outputs": [
    {
     "data": {
      "text/plain": [
       "['b', 'c', 'd']"
      ]
     },
     "execution_count": 91,
     "metadata": {},
     "output_type": "execute_result"
    }
   ],
   "source": [
    "# Use index and slicing to print the 2nd and 2 to 4 elements of the list\n",
    "list_str[1] # get 2nd element out of list_str\n",
    "list_str[1:4] # get 2nd to 4th elements out of list_str"
   ]
  },
  {
   "cell_type": "markdown",
   "metadata": {},
   "source": [
    "### 3.1 List Manipulation"
   ]
  },
  {
   "cell_type": "code",
   "execution_count": 92,
   "metadata": {},
   "outputs": [
    {
     "data": {
      "text/plain": [
       "5"
      ]
     },
     "execution_count": 92,
     "metadata": {},
     "output_type": "execute_result"
    }
   ],
   "source": [
    "# What is the length of the list you just created?\n",
    "len(list_str)"
   ]
  },
  {
   "cell_type": "code",
   "execution_count": 93,
   "metadata": {},
   "outputs": [
    {
     "data": {
      "text/plain": [
       "['a', 'b', 't', 'd', 'e']"
      ]
     },
     "execution_count": 93,
     "metadata": {},
     "output_type": "execute_result"
    }
   ],
   "source": [
    "# Change the value of the 3rd element in the list\n",
    "list_str[2] = \"t\"\n",
    "list_str\n"
   ]
  },
  {
   "cell_type": "code",
   "execution_count": 94,
   "metadata": {},
   "outputs": [
    {
     "data": {
      "text/plain": [
       "['a', 'b', 't', 'd', 'e', 'I am adding a sentence']"
      ]
     },
     "execution_count": 94,
     "metadata": {},
     "output_type": "execute_result"
    }
   ],
   "source": [
    "# Add another element to the end of the list\n",
    "# use list method append()\n",
    "list_str.append(\"I am adding a sentence\")\n",
    "list_str"
   ]
  },
  {
   "cell_type": "code",
   "execution_count": 95,
   "metadata": {},
   "outputs": [
    {
     "data": {
      "text/plain": [
       "['a', 'insert', 'b', 't', 'd', 'e', 'I am adding a sentence']"
      ]
     },
     "execution_count": 95,
     "metadata": {},
     "output_type": "execute_result"
    }
   ],
   "source": [
    "# Insert an element at the 2nd position of the list\n",
    "list_str.insert(1, \"insert\")\n",
    "list_str"
   ]
  },
  {
   "cell_type": "markdown",
   "metadata": {},
   "source": [
    "### 3.2 ```in``` and ```not in``` Operator\n",
    "\n",
    "```in``` and ```not in``` operator applies to list just the same as strings"
   ]
  },
  {
   "cell_type": "code",
   "execution_count": 96,
   "metadata": {},
   "outputs": [
    {
     "data": {
      "text/plain": [
       "False"
      ]
     },
     "execution_count": 96,
     "metadata": {},
     "output_type": "execute_result"
    }
   ],
   "source": [
    "# use in and not in operator to check if an elelment exists in the list you defined\n",
    "a_list = [1, 2, 3, 4, 5]\n",
    "1 in a_list #True\n",
    "34234 not in a_list # True\n",
    "5 not in a_list # False\n"
   ]
  },
  {
   "cell_type": "markdown",
   "metadata": {},
   "source": [
    "### 3.3 For loop on list"
   ]
  },
  {
   "cell_type": "code",
   "execution_count": 97,
   "metadata": {},
   "outputs": [
    {
     "name": "stdout",
     "output_type": "stream",
     "text": [
      "1\n",
      "2\n",
      "3\n",
      "4\n",
      "5\n"
     ]
    },
    {
     "data": {
      "text/plain": [
       "[1, 2, 3, 2304, 5]"
      ]
     },
     "execution_count": 97,
     "metadata": {},
     "output_type": "execute_result"
    }
   ],
   "source": [
    "# Loop through the list you created and print each element in the loop\n",
    "# looping through the value of a list\n",
    "a_list = [1,2,3,4,5]\n",
    "for e in a_list:\n",
    "    print(e)\n",
    "\n",
    "# loop through the index of a list\n",
    "for i in range(len(a_list)):\n",
    "    if i == 3:\n",
    "        a_list[i] = 2304\n",
    "a_list"
   ]
  },
  {
   "cell_type": "markdown",
   "metadata": {},
   "source": [
    "#"
   ]
  },
  {
   "cell_type": "markdown",
   "metadata": {},
   "source": [
    "## 4. Tuple\n",
    "\n",
    "* Tuple is a sequence with multiple element like a list\n",
    "* Tuple is not orderred\n",
    "* Tuple cannot be changed\n",
    "\n",
    "Define a tuple by \n",
    "\n",
    "```python\n",
    "a_tuple = (4353, 454, 14)\n",
    "```"
   ]
  },
  {
   "cell_type": "code",
   "execution_count": 98,
   "metadata": {},
   "outputs": [
    {
     "data": {
      "text/plain": [
       "tuple"
      ]
     },
     "execution_count": 98,
     "metadata": {},
     "output_type": "execute_result"
    }
   ],
   "source": [
    "# Define a tuple\n",
    "a_tuple = (78, 43, 19)\n",
    "type(a_tuple)"
   ]
  },
  {
   "cell_type": "code",
   "execution_count": 99,
   "metadata": {},
   "outputs": [
    {
     "data": {
      "text/plain": [
       "(78, 43, 19)"
      ]
     },
     "execution_count": 99,
     "metadata": {},
     "output_type": "execute_result"
    }
   ],
   "source": [
    "# Write an example to indexing and slicing for accessing tuple element\n",
    "a_tuple[0]\n",
    "a_tuple[0:3]"
   ]
  },
  {
   "cell_type": "markdown",
   "metadata": {},
   "source": [
    "## 5. Dictionary\n",
    "\n",
    "Dictionary is another commonly used data type for storing collections of data. It is an orderred collection of ```key:value``` pairs.\n",
    "\n",
    "```python\n",
    "a_dictionary = {key1:value1, key2:value2}\n",
    "```"
   ]
  },
  {
   "cell_type": "code",
   "execution_count": 100,
   "metadata": {},
   "outputs": [],
   "source": [
    "# Define a dictionary\n",
    "person ={'name': \"Johnson\", 'age':11, 'email': \"johnson@gmail.com\"}\n",
    "a_dictionary = {\"Apple\":\"fruit\", \"Pumpkin\":\"vegetable\"}\n",
    "a_dict = {'Guangdong' : 'Guangzhou', 'Guangxi' : 'Nanning', 'Tibet' : 'Lhasa', 'Xinjiang' : 'Urumqi', 'Gansu' : 'Lanzhou'}\n",
    "iss = {'craft':{'iss':{'people':[{'Name':'a1'}, {'Name':'a2'}],\n",
    "                       'position':(34, 656)},\n",
    "                'shenzhou':{'people':[{'Name':\"a1\"}, {'Name':'a2'}],\n",
    "                            'position':(234, 55)}\n",
    "               },\n",
    "        'total':2\n",
    "      }"
   ]
  },
  {
   "cell_type": "code",
   "execution_count": 101,
   "metadata": {},
   "outputs": [
    {
     "name": "stdout",
     "output_type": "stream",
     "text": [
      "dict_keys(['craft', 'total'])\n",
      "dict_keys(['people', 'position'])\n"
     ]
    },
    {
     "data": {
      "text/plain": [
       "dict"
      ]
     },
     "execution_count": 101,
     "metadata": {},
     "output_type": "execute_result"
    }
   ],
   "source": [
    "# challenge, decompose the iss dictionary to print content of each layer. \n"
   ]
  },
  {
   "cell_type": "code",
   "execution_count": 102,
   "metadata": {},
   "outputs": [
    {
     "data": {
      "text/plain": [
       "'Lanzhou'"
      ]
     },
     "execution_count": 102,
     "metadata": {},
     "output_type": "execute_result"
    }
   ],
   "source": [
    "# Read a dictionary element by key\n",
    "province_dict = {'Guangdong' : 'Guangzhou', 'Guangxi' : 'Nanning', 'Tibet' : 'Lhasa', 'Xinjiang' : 'Urumqi', 'Gansu' : 'Lanzhou'}\n",
    "province_dict['Gansu'] #reads the dictionary by key \"Gansu\""
   ]
  },
  {
   "cell_type": "code",
   "execution_count": 103,
   "metadata": {},
   "outputs": [
    {
     "data": {
      "text/plain": [
       "{'Guangdong': 'Guangzhou',\n",
       " 'Guangxi': 'Nanning',\n",
       " 'Tibet': 'Lhasa',\n",
       " 'Xinjiang': 'Urumqi',\n",
       " 'Gansu': 'Lanzhou',\n",
       " 'Heilongjiang': 'Harbin',\n",
       " 'Anhui': 'Hefei',\n",
       " 'Hebei': 'Shijiazhuang',\n",
       " 'Jilin': 'Changchun',\n",
       " 'Beijing': 'Beijing',\n",
       " 'Henan': 'Zhenzhou',\n",
       " 'Shaanxi': \"Xi'an\"}"
      ]
     },
     "execution_count": 103,
     "metadata": {},
     "output_type": "execute_result"
    }
   ],
   "source": [
    "# Add an additional key and value to the dictionary\n",
    "# province \"Heilongjiang\", capital is \"Harbin\"\n",
    "province_dict['Heilongjiang'] = \"Harbin\"\n",
    "province_dict['Anhui'] = 'Hefei'\n",
    "province_dict[\"Hebei\"] = \"Shijiazhuang\"\n",
    "province_dict['Jilin'] = \"Changchun\"\n",
    "province_dict['Beijing'] = 'Beijing'\n",
    "province_dict['Henan'] = 'Zhenzhou'\n",
    "province_dict['Shaanxi'] = \"Xi'an\"\n",
    "\n",
    "province_dict"
   ]
  },
  {
   "cell_type": "code",
   "execution_count": 104,
   "metadata": {},
   "outputs": [
    {
     "data": {
      "text/plain": [
       "\"Xi'an\""
      ]
     },
     "execution_count": 104,
     "metadata": {},
     "output_type": "execute_result"
    }
   ],
   "source": [
    "# Delete an element from the dictionary\n",
    "del(province_dict['Anhui']) # delete by key\n",
    "province_dict.pop('Shaanxi') # delete by key and return the value\n"
   ]
  },
  {
   "cell_type": "markdown",
   "metadata": {},
   "source": [
    "### 5.1 Loop a Dictionary\n",
    "\n",
    "Use \n",
    "\n",
    "```python\n",
    "for key, value in <dictionary>.items():\n",
    "    # some tasks\n",
    "```\n",
    "\n",
    "to loop through each element of a dictionary "
   ]
  },
  {
   "cell_type": "code",
   "execution_count": 105,
   "metadata": {},
   "outputs": [
    {
     "name": "stdout",
     "output_type": "stream",
     "text": [
      "Guangdong Guangzhou\n",
      "Guangxi Nanning\n",
      "Tibet Lhasa\n",
      "Xinjiang Urumqi\n",
      "Gansu Lanzhou\n",
      "Heilongjiang Harbin\n",
      "Hebei Shijiazhuang\n",
      "Jilin Changchun\n",
      "Beijing Beijing\n",
      "Henan Zhenzhou\n"
     ]
    }
   ],
   "source": [
    "# Loop a dictionary and print the key and value pair\n",
    "for province, city in province_dict.items():\n",
    "    print(province, city)"
   ]
  },
  {
   "cell_type": "code",
   "execution_count": 106,
   "metadata": {},
   "outputs": [
    {
     "name": "stdout",
     "output_type": "stream",
     "text": [
      "Guangdong Guangzhou\n",
      "Guangxi Nanning\n",
      "Tibet Lhasa\n",
      "Xinjiang Urumqi\n",
      "Gansu Lanzhou\n",
      "Heilongjiang Harbin\n",
      "Hebei Shijiazhuang\n",
      "Jilin Changchun\n",
      "Beijing Beijing\n",
      "Henan Zhenzhou\n"
     ]
    }
   ],
   "source": [
    "# Another way of looping through a dictionary by just key:\n",
    "for key in province_dict:\n",
    "    print(key, province_dict[key])"
   ]
  },
  {
   "cell_type": "markdown",
   "metadata": {},
   "source": [
    "### 5.2 Checking if a key exists in a dictionary\n",
    "\n",
    "You can use ```in``` operator to check if a key is in a dictionary. Example:\n",
    "\n",
    "```python\n",
    "if <key> in <dictionary>:\n",
    "    # do something\n",
    "```"
   ]
  },
  {
   "cell_type": "code",
   "execution_count": 107,
   "metadata": {},
   "outputs": [
    {
     "name": "stdout",
     "output_type": "stream",
     "text": [
      "no\n"
     ]
    }
   ],
   "source": [
    "key = 'wo3ru'\n",
    "if key in province_dict:\n",
    "    print(\"it is indeed there\")\n",
    "else:\n",
    "    print(\"no\")\n"
   ]
  },
  {
   "cell_type": "code",
   "execution_count": 108,
   "metadata": {},
   "outputs": [
    {
     "name": "stdout",
     "output_type": "stream",
     "text": [
      "Guangdong is a province\n",
      "Guangxi is a province\n",
      "Tibet is a province\n",
      "Xinjiang is a province\n",
      "Gansu is a province\n",
      "Heilongjiang is a province\n",
      "Hebei is a province\n",
      "Jilin is a province\n",
      "Beijing is a municipality city\n",
      "Henan is a province\n"
     ]
    }
   ],
   "source": [
    "# Loop through your province dictionary, if key in ['Beijing', 'Shanghai', \"Chongqing\", \"Tianjin\"], \n",
    "# print \"this city <city name> is a municipality\"\n",
    "\n",
    "for key in province_dict:\n",
    "    if key in ['Beijing', 'Shanghai', \"Chongqing\", \"Tianjin\"]:\n",
    "        print(f\"{key} is a municipality city\")\n",
    "    else:\n",
    "        print(f\"{key} is a province\")"
   ]
  }
 ],
 "metadata": {
  "kernelspec": {
   "display_name": "\"Python/Mu (mu_venv-38-20210709-141203)\"",
   "language": "python",
   "name": "mu_venv-38-20210709-141203"
  },
  "language_info": {
   "codemirror_mode": {
    "name": "ipython",
    "version": 3
   },
   "file_extension": ".py",
   "mimetype": "text/x-python",
   "name": "python",
   "nbconvert_exporter": "python",
   "pygments_lexer": "ipython3",
   "version": "3.8.5"
  },
  "orig_nbformat": 4,
  "vscode": {
   "interpreter": {
    "hash": "dcf368014b27bb3254173b76bb6992cea9090102976aee39c670588da3dd7f8e"
   }
  }
 },
 "nbformat": 4,
 "nbformat_minor": 2
}
