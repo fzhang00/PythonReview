{
 "cells": [
  {
   "cell_type": "markdown",
   "metadata": {},
   "source": [
    "# Data Types"
   ]
  },
  {
   "cell_type": "markdown",
   "metadata": {},
   "source": [
    "## 1. Numbers\n",
    "\n",
    "### 1.1 Integer"
   ]
  },
  {
   "cell_type": "code",
   "execution_count": 1,
   "metadata": {
    "vscode": {
     "languageId": "python"
    }
   },
   "outputs": [],
   "source": [
    "# Define a variable and assign an integer to it\n",
    "a = 1"
   ]
  },
  {
   "cell_type": "code",
   "execution_count": 2,
   "metadata": {
    "vscode": {
     "languageId": "python"
    }
   },
   "outputs": [
    {
     "data": {
      "text/plain": [
       "int"
      ]
     },
     "execution_count": 2,
     "metadata": {},
     "output_type": "execute_result"
    }
   ],
   "source": [
    "# use type() to identify the data type of the variable you just created\n",
    "type(a)"
   ]
  },
  {
   "cell_type": "markdown",
   "metadata": {},
   "source": [
    "### 1.2 Float"
   ]
  },
  {
   "cell_type": "code",
   "execution_count": 5,
   "metadata": {
    "vscode": {
     "languageId": "python"
    }
   },
   "outputs": [],
   "source": [
    "# Define a variable  and assign an float number\n",
    "b = 1.234567890"
   ]
  },
  {
   "cell_type": "markdown",
   "metadata": {},
   "source": [
    "## 2. String"
   ]
  },
  {
   "cell_type": "code",
   "execution_count": 4,
   "metadata": {
    "vscode": {
     "languageId": "python"
    }
   },
   "outputs": [],
   "source": [
    "# Define a variable and assign a string of more than 10 characters\n",
    "string1 = \"This is a string\""
   ]
  },
  {
   "cell_type": "markdown",
   "metadata": {},
   "source": [
    "### 2.1 Indexing and Slicing Strings\n",
    "\n",
    "Indexing is used to obtain individual elements. Slicing: Slicing is used to obtain a sequence of elements. Indexing and slicing is not only used in strings, but also on list, tuple, range object, numpy arrays, etc. \n",
    "\n",
    "Example of indexing: \n",
    "\n",
    "```python\n",
    "a[1] # 2nd element of variable a\n",
    "```\n",
    " \n",
    "Example of slicing:\n",
    "\n",
    "```python\n",
    "a[2:5] # 3rd to 6th element of variable a\n",
    "```"
   ]
  },
  {
   "cell_type": "code",
   "execution_count": 10,
   "metadata": {
    "vscode": {
     "languageId": "python"
    }
   },
   "outputs": [
    {
     "data": {
      "text/plain": [
       "'s'"
      ]
     },
     "execution_count": 10,
     "metadata": {},
     "output_type": "execute_result"
    }
   ],
   "source": [
    "# Use indexing to print the 4th character\n",
    "string1[3]"
   ]
  },
  {
   "cell_type": "code",
   "execution_count": 11,
   "metadata": {
    "vscode": {
     "languageId": "python"
    }
   },
   "outputs": [
    {
     "data": {
      "text/plain": [
       "'his is '"
      ]
     },
     "execution_count": 11,
     "metadata": {},
     "output_type": "execute_result"
    }
   ],
   "source": [
    "# Use slicing to print the 2nd to the 8th characters\n",
    "string1[1:8]"
   ]
  },
  {
   "cell_type": "markdown",
   "metadata": {},
   "source": [
    "### 2.2 Loop on strings"
   ]
  },
  {
   "cell_type": "code",
   "execution_count": 13,
   "metadata": {
    "vscode": {
     "languageId": "python"
    }
   },
   "outputs": [
    {
     "name": "stdout",
     "output_type": "stream",
     "text": [
      "T\n",
      "h\n",
      "i\n",
      "s\n",
      " \n",
      "i\n",
      "s\n",
      " \n",
      "a\n",
      " \n",
      "s\n",
      "t\n",
      "r\n",
      "i\n",
      "n\n",
      "g\n"
     ]
    }
   ],
   "source": [
    "# use for loop to loop through the string and print one character at a time.\n",
    "for i in string1:\n",
    "    print(i)"
   ]
  },
  {
   "cell_type": "markdown",
   "metadata": {},
   "source": [
    "### 2.3 Multi-line string"
   ]
  },
  {
   "cell_type": "code",
   "execution_count": 14,
   "metadata": {
    "vscode": {
     "languageId": "python"
    }
   },
   "outputs": [
    {
     "name": "stdout",
     "output_type": "stream",
     "text": [
      " This is a \n",
      "multiline\n",
      "string\n"
     ]
    }
   ],
   "source": [
    "# Define a variable with multi-line string\n",
    "multiline_string = \"\"\" This \n",
    "is \n",
    "a \n",
    "multiline\n",
    "string\"\"\"\n"
   ]
  },
  {
   "cell_type": "markdown",
   "metadata": {},
   "source": [
    "### 2.4 Combine string"
   ]
  },
  {
   "cell_type": "code",
   "execution_count": 16,
   "metadata": {
    "vscode": {
     "languageId": "python"
    }
   },
   "outputs": [
    {
     "name": "stdout",
     "output_type": "stream",
     "text": [
      "I like sushiIt is the best food ever\n"
     ]
    }
   ],
   "source": [
    "# Use + to stitch two strings together\n",
    "combined_string = \"I like sushi\" + \"It is the best food ever\""
   ]
  },
  {
   "cell_type": "markdown",
   "metadata": {},
   "source": [
    "### 2.5 String Manipulation Methods\n",
    "\n",
    "We've use several string manipulation methods. Let's summarize them here:\n",
    "\n",
    "|Method Name | Description |\n",
    "|------|---------|\n",
    "| split()   | Split a string with specific character |\n",
    "| lower()   | Convert string to lower case |\n",
    "| upper()   | Convert stromg tp i[[er case |\n",
    "| isupper() | Return True if string is all upper case |\n",
    "| islower() | Return True if string is all lower case |\n",
    "| startwith() | Return True if the string start with the given string |\n",
    "| endwidth() | Return True if the string end with the given string |\n",
    "*Strings are objects\n",
    "*Way to call method on object is '''object_name.method_name()'''\n",
    "Examples:\n",
    "\n",
    "```python\n",
    "\"Hello world\".startwith(\"Hello\")\n",
    "# True\n",
    "\"abc124\".endwidth(\"4\")\n",
    "# True\n",
    "```"
   ]
  },
  {
   "cell_type": "code",
   "execution_count": 28,
   "metadata": {
    "vscode": {
     "languageId": "python"
    }
   },
   "outputs": [
    {
     "name": "stdout",
     "output_type": "stream",
     "text": [
      "Richard Zhan\n"
     ]
    }
   ],
   "source": [
    "# Test each method listed above\n",
    "name = \"Richard Zhan\".split(' ')\n",
    "first_name = name[0]\n",
    "last_name = name[1]\n",
    "print(first_name, last_name)"
   ]
  },
  {
   "cell_type": "code",
   "execution_count": 29,
   "metadata": {
    "vscode": {
     "languageId": "python"
    }
   },
   "outputs": [
    {
     "data": {
      "text/plain": [
       "'hello world'"
      ]
     },
     "execution_count": 29,
     "metadata": {},
     "output_type": "execute_result"
    }
   ],
   "source": [
    "\"HELLO WORLD\".lower()"
   ]
  },
  {
   "cell_type": "markdown",
   "metadata": {},
   "source": [
    "### 2.6 ```in``` and ```not in``` Operator\n",
    "\n",
    "```in``` and ```not in``` checks if the given element or sequence exists in another sequence. \n",
    "\n",
    "Example:\n",
    "\n",
    "```python\n",
    "'a' in 'abc'\n",
    "# True\n",
    "'d' not in 'abc'\n",
    "# True\n",
    "```"
   ]
  },
  {
   "cell_type": "code",
   "execution_count": 31,
   "metadata": {
    "vscode": {
     "languageId": "python"
    }
   },
   "outputs": [
    {
     "data": {
      "text/plain": [
       "True"
      ]
     },
     "execution_count": 31,
     "metadata": {},
     "output_type": "execute_result"
    }
   ],
   "source": [
    "'corn' in \"I like sushi\"\n",
    "# False\n",
    "'sushi' not in 'abcdefg'\n",
    "# True"
   ]
  },
  {
   "cell_type": "markdown",
   "metadata": {},
   "source": [
    "## 3. List\n",
    "\n",
    "List is one of the basic data type in Python to store collections of data.\n",
    "\n",
    "* List are ordered\n",
    "* List elements can be mixed datatype\n",
    "* List element can be accessed by indexing and slicing"
   ]
  },
  {
   "cell_type": "code",
   "execution_count": 2,
   "metadata": {
    "vscode": {
     "languageId": "python"
    }
   },
   "outputs": [],
   "source": [
    "# Define a list with 5 elements\n",
    "list1 = ['a', 'b', 'c', 'd', 'e']"
   ]
  },
  {
   "cell_type": "code",
   "execution_count": 3,
   "metadata": {
    "vscode": {
     "languageId": "python"
    }
   },
   "outputs": [
    {
     "data": {
      "text/plain": [
       "['b', 'c', 'd']"
      ]
     },
     "execution_count": 3,
     "metadata": {},
     "output_type": "execute_result"
    }
   ],
   "source": [
    "# Use index and slicing to print the 2nd and 2 to 4 elements of the list\n",
    "list1[1]\n",
    "list1[1:4]"
   ]
  },
  {
   "cell_type": "code",
   "execution_count": 33,
   "metadata": {
    "vscode": {
     "languageId": "python"
    }
   },
   "outputs": [
    {
     "data": {
      "text/plain": [
       "['b', 'c', 'd']"
      ]
     },
     "execution_count": 33,
     "metadata": {},
     "output_type": "execute_result"
    }
   ],
   "source": [
    "list1[1:4]"
   ]
  },
  {
   "cell_type": "markdown",
   "metadata": {},
   "source": [
    "### 3.1 List Manipulation"
   ]
  },
  {
   "cell_type": "code",
   "execution_count": 35,
   "metadata": {
    "vscode": {
     "languageId": "python"
    }
   },
   "outputs": [
    {
     "data": {
      "text/plain": [
       "5"
      ]
     },
     "execution_count": 35,
     "metadata": {},
     "output_type": "execute_result"
    }
   ],
   "source": [
    "# What is the length of the list you just created?\n",
    "len(list1)"
   ]
  },
  {
   "cell_type": "code",
   "execution_count": 40,
   "metadata": {
    "vscode": {
     "languageId": "python"
    }
   },
   "outputs": [
    {
     "name": "stdout",
     "output_type": "stream",
     "text": [
      "['a', 'b', 'x', 'd', 'e']\n"
     ]
    }
   ],
   "source": [
    "# Change the value of the 3rd element in the list\n",
    "list1[2] = 'x'"
   ]
  },
  {
   "cell_type": "code",
   "execution_count": 63,
   "metadata": {
    "vscode": {
     "languageId": "python"
    }
   },
   "outputs": [
    {
     "name": "stdout",
     "output_type": "stream",
     "text": [
      "['a', 'f', 'b', 'x', 'd', 'e', 'e']\n"
     ]
    }
   ],
   "source": [
    "# Add another element to the end of the list\n",
    "list1.append('e')\n",
    "print(list1)"
   ]
  },
  {
   "cell_type": "code",
   "execution_count": 64,
   "metadata": {
    "vscode": {
     "languageId": "python"
    }
   },
   "outputs": [
    {
     "name": "stdout",
     "output_type": "stream",
     "text": [
      "['a', 'f', 'f', 'b', 'x', 'd', 'e', 'e']\n"
     ]
    }
   ],
   "source": [
    "# Insert an element at the 2nd position of the list\n",
    "list1.insert(1,'f')\n",
    "print(list1)"
   ]
  },
  {
   "cell_type": "markdown",
   "metadata": {},
   "source": [
    "### 3.2 ```in``` and ```not in``` Operator\n",
    "\n",
    "```in``` and ```not in``` operator applies to list just the same as strings"
   ]
  },
  {
   "cell_type": "code",
   "execution_count": 65,
   "metadata": {
    "vscode": {
     "languageId": "python"
    }
   },
   "outputs": [
    {
     "data": {
      "text/plain": [
       "True"
      ]
     },
     "execution_count": 65,
     "metadata": {},
     "output_type": "execute_result"
    }
   ],
   "source": [
    "# use in and not in operator to check if an elelment exists in the list you defined\n",
    "fruit_list = ['apple', 'banana', 'orange']\n",
    "'apple' in fruit_list # True\n",
    "'mango' not in fruit_list # True"
   ]
  },
  {
   "cell_type": "markdown",
   "metadata": {},
   "source": [
    "### 3.3 For loop on list"
   ]
  },
  {
   "cell_type": "code",
   "execution_count": 66,
   "metadata": {
    "vscode": {
     "languageId": "python"
    }
   },
   "outputs": [
    {
     "name": "stdout",
     "output_type": "stream",
     "text": [
      "apple\n",
      "banana\n",
      "orange\n"
     ]
    }
   ],
   "source": [
    "# Loop through the list you created and print each element in the loop\n",
    "for i in fruit_list:\n",
    "    print(i)"
   ]
  },
  {
   "cell_type": "markdown",
   "metadata": {},
   "source": [
    "#"
   ]
  },
  {
   "cell_type": "markdown",
   "metadata": {},
   "source": [
    "## 4. Tuple"
   ]
  },
  {
   "cell_type": "code",
   "execution_count": 1,
   "metadata": {
    "vscode": {
     "languageId": "python"
    }
   },
   "outputs": [],
   "source": [
    "# Define a tuple\n",
    "tuple1 = (1,2,3,4)"
   ]
  },
  {
   "cell_type": "code",
   "execution_count": 5,
   "metadata": {
    "vscode": {
     "languageId": "python"
    }
   },
   "outputs": [
    {
     "data": {
      "text/plain": [
       "(1, 2, 3)"
      ]
     },
     "execution_count": 5,
     "metadata": {},
     "output_type": "execute_result"
    }
   ],
   "source": [
    "# Write an example to indexing and slicing for accessing tuple element\n",
    "tuple1[1]\n",
    "tuple1[0:3]"
   ]
  },
  {
   "cell_type": "markdown",
   "metadata": {},
   "source": [
    "## 5. Dictionary\n",
    "\n",
    "Dictionary is another commonly used data type for storing collections of data. It is an orderred collection of ```key:value``` pairs."
   ]
  },
  {
   "cell_type": "code",
   "execution_count": 8,
   "metadata": {
    "vscode": {
     "languageId": "python"
    }
   },
   "outputs": [],
   "source": [
    "# Define a dictionary\n",
    "a_dict = {'Guangdong' : 'Guangzhou', 'Guangxi' : 'Nanning', 'Tibet' : 'Lhasa', 'Xinjiang' : 'Urumqi', 'Gansu' : 'Lanzhou'}"
   ]
  },
  {
   "cell_type": "code",
   "execution_count": 5,
   "metadata": {
    "vscode": {
     "languageId": "python"
    }
   },
   "outputs": [],
   "source": [
    "iss = {'craft':{'iss':{'people':[{'Name':'a1'}, {'Name':'a2'}],\n",
    "                       'position':(34, 656)},\n",
    "                'shenzhou':{'people':[{'Name':\"a1\"}, {'Name':'a2'}],\n",
    "                            'position':(234, 55)}\n",
    "               },\n",
    "        'total':2\n",
    "      }\n"
   ]
  },
  {
   "cell_type": "code",
   "execution_count": 6,
   "metadata": {
    "vscode": {
     "languageId": "python"
    }
   },
   "outputs": [
    {
     "name": "stdout",
     "output_type": "stream",
     "text": [
      "dict_keys(['craft', 'total'])\n",
      "dict_keys(['iss', 'shenzhou'])\n",
      "dict_keys(['people', 'position'])\n",
      "[{'Name': 'a1'}, {'Name': 'a2'}]\n",
      "(34, 656)\n",
      "dict_keys(['people', 'position'])\n",
      "[{'Name': 'a1'}, {'Name': 'a2'}]\n",
      "(234, 55)\n",
      "2\n"
     ]
    }
   ],
   "source": [
    "print(iss.keys())\n",
    "print(iss['craft'].keys())\n",
    "print(iss['craft']['iss'].keys())\n",
    "print(iss['craft']['iss']['people'][0:2])\n",
    "print(iss['craft']['iss']['position'])\n",
    "print(iss['craft']['shenzhou'].keys())\n",
    "print(iss['craft']['shenzhou']['people'][0:2])\n",
    "print(iss['craft']['shenzhou']['position'])\n",
    "print(iss['total'])"
   ]
  },
  {
   "cell_type": "code",
   "execution_count": 13,
   "metadata": {
    "vscode": {
     "languageId": "python"
    }
   },
   "outputs": [
    {
     "data": {
      "text/plain": [
       "'Nanning'"
      ]
     },
     "execution_count": 13,
     "metadata": {},
     "output_type": "execute_result"
    }
   ],
   "source": [
    "# Read a dictionary element by key\n",
    "a_dict['Gansu']\n",
    "a_dict['Guangdong']\n",
    "a_dict['Guangxi']"
   ]
  },
  {
   "cell_type": "code",
   "execution_count": 10,
   "metadata": {
    "vscode": {
     "languageId": "python"
    }
   },
   "outputs": [
    {
     "name": "stdout",
     "output_type": "stream",
     "text": [
      "{'Guangdong': 'Guangzhou', 'Guangxi': 'Nanning', 'Tibet': 'Lhasa', 'Xinjiang': 'Urumqi', 'Gansu': 'Lanzhou', 'Jiangsu': 'Nanjing', 'Heilongjiang': 'Harbin', 'Jilin': 'Changchun', 'Beijing': 'Beijing', 'Zhejiang': 'Hangzhou'}\n"
     ]
    }
   ],
   "source": [
    "# Add an additional key and value to the dictionary\n",
    "a_dict['Jiangsu'] = 'Nanjing'\n",
    "a_dict['Heilongjiang'] = 'Harbin'\n",
    "a_dict['Jilin'] = \"Changchun\"\n",
    "a_dict['Beijing'] = 'Beijing'\n",
    "a_dict['Zhejiang'] = 'Hangzhou'\n",
    "print(a_dict)"
   ]
  },
  {
   "cell_type": "code",
   "execution_count": 11,
   "metadata": {
    "vscode": {
     "languageId": "python"
    }
   },
   "outputs": [
    {
     "name": "stdout",
     "output_type": "stream",
     "text": [
      "{'Guangdong': 'Guangzhou', 'Guangxi': 'Nanning', 'Tibet': 'Lhasa', 'Xinjiang': 'Urumqi', 'Gansu': 'Lanzhou', 'Jiangsu': 'Nanjing', 'Heilongjiang': 'Harbin', 'Beijing': 'Beijing', 'Zhejiang': 'Hangzhou'}\n"
     ]
    }
   ],
   "source": [
    "# Delete an element from the dictionary\n",
    "del(a_dict['Jilin'])\n",
    "print(a_dict)"
   ]
  },
  {
   "cell_type": "markdown",
   "metadata": {},
   "source": [
    "### 5.1 Loop a Dictionary\n",
    "\n",
    "Use \n",
    "\n",
    "```python\n",
    "for key, value in <dictionary>.items():\n",
    "    # some tasks\n",
    "```\n",
    "\n"
   ]
  },
  {
   "cell_type": "code",
   "execution_count": 36,
   "metadata": {
    "vscode": {
     "languageId": "python"
    }
   },
   "outputs": [
    {
     "name": "stdout",
     "output_type": "stream",
     "text": [
      "Guangdong Guangzhou\n",
      "Guangxi Nanning\n",
      "Tibet Lhasa\n",
      "Xinjiang Urumqi\n",
      "Gansu Lanzhou\n",
      "Jiangsu Nanjing\n",
      "Heilongjiang Harbin\n"
     ]
    }
   ],
   "source": [
    "# Loop a dictionary and print the key and value pair\n",
    "for key, value in a_dict.items():\n",
    "    print(key, value)"
   ]
  },
  {
   "cell_type": "code",
   "execution_count": 14,
   "metadata": {
    "vscode": {
     "languageId": "python"
    }
   },
   "outputs": [
    {
     "name": "stdout",
     "output_type": "stream",
     "text": [
      "Guangdong Guangzhou\n",
      "Guangxi Nanning\n",
      "Tibet Lhasa\n",
      "Xinjiang Urumqi\n",
      "Gansu Lanzhou\n",
      "Jiangsu Nanjing\n",
      "Heilongjiang Harbin\n",
      "Beijing Beijing\n",
      "Zhejiang Hangzhou\n"
     ]
    }
   ],
   "source": [
    "for key in a_dict:\n",
    "    print(key, a_dict[key])"
   ]
  },
  {
   "cell_type": "markdown",
   "metadata": {},
   "source": [
    "### 5.2 Checking if a key exists in a dictionary\n",
    "\n",
    "You can use ```in``` operator to check if a key is in a dictionary. Example:\n",
    "\n",
    "```python\n",
    "if <key> in <dictionary>:\n",
    "    # do something\n",
    "```"
   ]
  },
  {
   "cell_type": "code",
   "execution_count": 37,
   "metadata": {
    "vscode": {
     "languageId": "python"
    }
   },
   "outputs": [
    {
     "name": "stdout",
     "output_type": "stream",
     "text": [
      "\"Anhui\" is not in a_dict\n"
     ]
    }
   ],
   "source": [
    "if \"Anhui\" in a_dict:\n",
    "    print(\"'Anhui' is in a_dict\")\n",
    "else:\n",
    "    print('\"Anhui\" is not in a_dict')"
   ]
  },
  {
   "cell_type": "code",
   "execution_count": 12,
   "metadata": {
    "vscode": {
     "languageId": "python"
    }
   },
   "outputs": [
    {
     "name": "stdout",
     "output_type": "stream",
     "text": [
      "Guangdong Guangzhou\n",
      "This city is not a municipality\n",
      "Guangxi Nanning\n",
      "This city is not a municipality\n",
      "Tibet Lhasa\n",
      "This city is not a municipality\n",
      "Xinjiang Urumqi\n",
      "This city is not a municipality\n",
      "Gansu Lanzhou\n",
      "This city is not a municipality\n",
      "Jiangsu Nanjing\n",
      "This city is not a municipality\n",
      "Heilongjiang Harbin\n",
      "This city is not a municipality\n",
      "Beijing Beijing\n",
      "This city is a municipality\n",
      "Zhejiang Hangzhou\n",
      "This city is not a municipality\n"
     ]
    }
   ],
   "source": [
    "for key, value in a_dict.items():\n",
    "    print(key,value)\n",
    "    if key in [\"Beijing\", \"Shanghai\", \"Tianjin\", \"Chongqing\"]:\n",
    "        print(\"This city is a municipality\")\n",
    "    else:\n",
    "        print(\"This city is not a municipality\")\n",
    "    "
   ]
  }
 ],
 "metadata": {
  "kernelspec": {
   "display_name": "\"Python/Mu (mu_venv-38-20220106-202512)\"",
   "language": "python",
   "name": "mu_venv-38-20220106-202512"
  },
  "orig_nbformat": 4,
  "vscode": {
   "interpreter": {
    "hash": "dcf368014b27bb3254173b76bb6992cea9090102976aee39c670588da3dd7f8e"
   }
  }
 },
 "nbformat": 4,
 "nbformat_minor": 2
}
