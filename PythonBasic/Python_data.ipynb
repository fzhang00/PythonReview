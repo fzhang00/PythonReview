{
 "cells": [
  {
   "cell_type": "markdown",
   "metadata": {},
   "source": [
    "# Data Types"
   ]
  },
  {
   "cell_type": "markdown",
   "metadata": {},
   "source": [
    "## 1. Numbers\n",
    "\n",
    "### 1.1 Integer"
   ]
  },
  {
   "cell_type": "code",
   "execution_count": 117,
   "metadata": {},
   "outputs": [],
   "source": [
    "# Define a variable and assign an integer to it\n",
    "a = 1"
   ]
  },
  {
   "cell_type": "code",
   "execution_count": 118,
   "metadata": {},
   "outputs": [
    {
     "data": {
      "text/plain": [
       "int"
      ]
     },
     "execution_count": 118,
     "metadata": {},
     "output_type": "execute_result"
    }
   ],
   "source": [
    "# use type() to identify the data type of the variable you just created\n",
    "type(a)"
   ]
  },
  {
   "cell_type": "markdown",
   "metadata": {},
   "source": [
    "### 1.2 Float"
   ]
  },
  {
   "cell_type": "code",
   "execution_count": 119,
   "metadata": {},
   "outputs": [],
   "source": [
    "# Define a variable  and assign an float number\n",
    "a = 4.4\n"
   ]
  },
  {
   "cell_type": "markdown",
   "metadata": {},
   "source": [
    "## 2. String"
   ]
  },
  {
   "cell_type": "code",
   "execution_count": 120,
   "metadata": {},
   "outputs": [],
   "source": [
    "# Define a variable and assign a string of more than 10 characters\n",
    "a = \"I really like corn\"\n"
   ]
  },
  {
   "cell_type": "markdown",
   "metadata": {},
   "source": [
    "### 2.1 Indexing and Slicing Strings\n",
    "\n",
    "Indexing is used to obtain individual elements. Slicing: Slicing is used to obtain a sequence of elements. Indexing and slicing is not only used in strings, but also on list, tuple, range object, numpy arrays, etc. \n",
    "\n",
    "Example of indexing: \n",
    "\n",
    "```python\n",
    "a[1] # 2nd element of variable a\n",
    "```\n",
    " \n",
    "Example of slicing:\n",
    "\n",
    "```python\n",
    "a[2:5] # 3rd to 6th element of variable a\n",
    "```"
   ]
  },
  {
   "cell_type": "code",
   "execution_count": 121,
   "metadata": {},
   "outputs": [
    {
     "data": {
      "text/plain": [
       "'e'"
      ]
     },
     "execution_count": 121,
     "metadata": {},
     "output_type": "execute_result"
    }
   ],
   "source": [
    "# Use indexing to print the 4th character\n",
    "a[3]"
   ]
  },
  {
   "cell_type": "code",
   "execution_count": 122,
   "metadata": {},
   "outputs": [
    {
     "data": {
      "text/plain": [
       "' really'"
      ]
     },
     "execution_count": 122,
     "metadata": {},
     "output_type": "execute_result"
    }
   ],
   "source": [
    "# Use slicing to print the 2nd to the 8th characters\n",
    "a[1:8]"
   ]
  },
  {
   "cell_type": "markdown",
   "metadata": {},
   "source": [
    "### 2.2 Loop on strings"
   ]
  },
  {
   "cell_type": "code",
   "execution_count": 123,
   "metadata": {},
   "outputs": [
    {
     "name": "stdout",
     "output_type": "stream",
     "text": [
      "I\n",
      " \n",
      "r\n",
      "e\n",
      "a\n",
      "l\n",
      "l\n",
      "y\n",
      " \n",
      "l\n",
      "i\n",
      "k\n",
      "e\n",
      " \n",
      "c\n",
      "o\n",
      "r\n",
      "n\n"
     ]
    }
   ],
   "source": [
    "# use for loop to loop through the string and print one character at a time.\n",
    "for i in a:\n",
    "    print(i)"
   ]
  },
  {
   "cell_type": "markdown",
   "metadata": {},
   "source": [
    "### 2.3 Multi-line string"
   ]
  },
  {
   "cell_type": "code",
   "execution_count": 124,
   "metadata": {},
   "outputs": [],
   "source": [
    "# Define a variable with multi-line string\n",
    "a = \"\"\"I really like corn.\n",
    "        aaaaaaa\"\"\""
   ]
  },
  {
   "cell_type": "markdown",
   "metadata": {},
   "source": [
    "### 2.4 Combine string"
   ]
  },
  {
   "cell_type": "code",
   "execution_count": 125,
   "metadata": {},
   "outputs": [
    {
     "name": "stdout",
     "output_type": "stream",
     "text": [
      "ab\n"
     ]
    }
   ],
   "source": [
    "# Use + to stitch two strings together\n",
    "print(\"a\" + \"b\")"
   ]
  },
  {
   "cell_type": "markdown",
   "metadata": {},
   "source": [
    "### 2.5 String Manipulation Methods\n",
    "\n",
    "We've use several string manipulation methods. Let's summarize them here:\n",
    "\n",
    "|Method Name | Description |\n",
    "|------|---------|\n",
    "| split()   | Split a string with specific character |\n",
    "| lower()   | Convert string to lower case |\n",
    "| upper()   | Convert string tp upper case |\n",
    "| isupper() | Return True if string is all upper case |\n",
    "| islower() | Return True if string is all lower case |\n",
    "| startwith() | Return True if the string start with the given string |\n",
    "| endwidth() | Return True if the string end with the given string |\n",
    "\n",
    "* Strings are objects\n",
    "* Way to call method on object is ```object_name.method_name()```\n",
    "\n",
    "Examples:\n",
    "\n",
    "```python\n",
    "\"Hello world\".startwith(\"Hello\")\n",
    "# True\n",
    "\"abc124\".endwidth(\"4\")\n",
    "# True\n",
    "```"
   ]
  },
  {
   "cell_type": "code",
   "execution_count": 126,
   "metadata": {},
   "outputs": [
    {
     "data": {
      "text/plain": [
       "True"
      ]
     },
     "execution_count": 126,
     "metadata": {},
     "output_type": "execute_result"
    }
   ],
   "source": [
    "# Test each method listed above\n",
    "name = \"Johnson Chen\".split(\" \") #splits the word\n",
    "first_name = 0\n",
    "last_name = 1\n",
    "\n",
    "\"RANDOM TEXT\".lower() #change to lower\n",
    "\"random text\".upper() #change to upper\n",
    "\"lower text\".islower() #if text is lower it is true\n",
    "\"RANDOM TEXT TWO\".isupper() # if text is upper it is true\n",
    "\"Hello World\".startswith(\"Hello\") # if starts with the word in the () of startswith it is true\n",
    "\"Hello World\".endswith(\"World\") # if ends with the word in the () of endswith it is true\n"
   ]
  },
  {
   "cell_type": "markdown",
   "metadata": {},
   "source": [
    "### 2.6 ```in``` and ```not in``` Operator\n",
    "\n",
    "```in``` and ```not in``` checks if the given element or sequence exists in another sequence. \n",
    "\n",
    "Example:\n",
    "\n",
    "```python\n",
    "'a' in 'abc'\n",
    "# True\n",
    "'d' not in 'abc'\n",
    "# True\n",
    "```"
   ]
  },
  {
   "cell_type": "code",
   "execution_count": 127,
   "metadata": {},
   "outputs": [
    {
     "data": {
      "text/plain": [
       "True"
      ]
     },
     "execution_count": 127,
     "metadata": {},
     "output_type": "execute_result"
    }
   ],
   "source": [
    "'hello' in 'hello person reading' #True\n",
    "'world' not in 'hello person reading' #True"
   ]
  },
  {
   "cell_type": "markdown",
   "metadata": {},
   "source": [
    "## 3. List\n",
    "\n",
    "List is one of the basic data type in Python to store collections of data.\n",
    "\n",
    "* List are ordered\n",
    "* List elements can be mixed datatype\n",
    "* List element can be accessed by indexing and slicing"
   ]
  },
  {
   "cell_type": "code",
   "execution_count": 136,
   "metadata": {},
   "outputs": [],
   "source": [
    "# Define a list with 5 elements\n",
    "a_list = [\"a\", \"b\", \"c\", \"d\", \"e\"]"
   ]
  },
  {
   "cell_type": "code",
   "execution_count": 137,
   "metadata": {},
   "outputs": [
    {
     "data": {
      "text/plain": [
       "'b'"
      ]
     },
     "execution_count": 137,
     "metadata": {},
     "output_type": "execute_result"
    }
   ],
   "source": [
    "# Use index and slicing to print the 2nd and 2 to 4 elements of the list\n",
    "a_list[1]"
   ]
  },
  {
   "cell_type": "markdown",
   "metadata": {},
   "source": [
    "### 3.1 List Manipulation"
   ]
  },
  {
   "cell_type": "code",
   "execution_count": 139,
   "metadata": {},
   "outputs": [
    {
     "data": {
      "text/plain": [
       "5"
      ]
     },
     "execution_count": 139,
     "metadata": {},
     "output_type": "execute_result"
    }
   ],
   "source": [
    "# What is the length of the list you just created?\n",
    "len(a_list)# 5"
   ]
  },
  {
   "cell_type": "code",
   "execution_count": 140,
   "metadata": {},
   "outputs": [
    {
     "name": "stdout",
     "output_type": "stream",
     "text": [
      "['a', 'b', 't', 'd', 'e']\n"
     ]
    }
   ],
   "source": [
    "# Change the value of the 3rd element in the list\n",
    "a_list[2] = \"t\"\n",
    "print(a_list)"
   ]
  },
  {
   "cell_type": "code",
   "execution_count": 141,
   "metadata": {},
   "outputs": [
    {
     "name": "stdout",
     "output_type": "stream",
     "text": [
      "['a', 'b', 't', 'd', 'e', 'f']\n"
     ]
    }
   ],
   "source": [
    "# Add another element to the end of the list\n",
    "a_list.append(\"f\")\n",
    "print(a_list)"
   ]
  },
  {
   "cell_type": "code",
   "execution_count": 142,
   "metadata": {},
   "outputs": [],
   "source": [
    "# Insert an element at the 2nd position of the list\n",
    "a_list.insert(1, 'yo')"
   ]
  },
  {
   "cell_type": "markdown",
   "metadata": {},
   "source": [
    "### 3.2 ```in``` and ```not in``` Operator\n",
    "\n",
    "```in``` and ```not in``` operator applies to list just the same as strings"
   ]
  },
  {
   "cell_type": "code",
   "execution_count": 143,
   "metadata": {},
   "outputs": [
    {
     "data": {
      "text/plain": [
       "True"
      ]
     },
     "execution_count": 143,
     "metadata": {},
     "output_type": "execute_result"
    }
   ],
   "source": [
    "# use in and not in operator to check if an elelment exists in the list you defined\n",
    "'f' in a_list #True\n",
    "'2' not in a_list #True"
   ]
  },
  {
   "cell_type": "markdown",
   "metadata": {},
   "source": [
    "### 3.3 For loop on list"
   ]
  },
  {
   "cell_type": "code",
   "execution_count": 145,
   "metadata": {},
   "outputs": [
    {
     "data": {
      "text/plain": [
       "['a', 'yo', 'b', 2304, 'd', 'e', 'f']"
      ]
     },
     "execution_count": 145,
     "metadata": {},
     "output_type": "execute_result"
    }
   ],
   "source": [
    "# Loop through the list you created and print each element in the loop\n",
    "for i in a_list:\n",
    "    print(i)\n",
    "\n",
    "# loop through the index of a list\n",
    "for i in range(len(a_list)):\n",
    "    if i == 3:\n",
    "        a_list[i] = 2304\n",
    "a_list"
   ]
  },
  {
   "cell_type": "markdown",
   "metadata": {},
   "source": [
    "#"
   ]
  },
  {
   "cell_type": "markdown",
   "metadata": {},
   "source": [
    "## 4. Tuple\n",
    "\n",
    "* Tuple is a sequence with multiple elements like a list \n",
    "* Tuple is not ordered\n",
    "* Tuple cannot be changed\n",
    "\n",
    "Define a tuple by\n",
    "\n",
    "```python\n",
    "a_tuple = (3123, 4324 ,23)\n",
    "```"
   ]
  },
  {
   "cell_type": "code",
   "execution_count": 2,
   "metadata": {},
   "outputs": [
    {
     "data": {
      "text/plain": [
       "tuple"
      ]
     },
     "execution_count": 2,
     "metadata": {},
     "output_type": "execute_result"
    }
   ],
   "source": [
    "# Define a tuple\n",
    "a_tuple = (23,65,89)\n",
    "type(a_tuple)"
   ]
  },
  {
   "cell_type": "code",
   "execution_count": 12,
   "metadata": {},
   "outputs": [
    {
     "data": {
      "text/plain": [
       "(23, 65)"
      ]
     },
     "execution_count": 12,
     "metadata": {},
     "output_type": "execute_result"
    }
   ],
   "source": [
    "# Write an example to indexing and slicing for accessing tuple element\n",
    "a_tuple[0:2]"
   ]
  },
  {
   "cell_type": "markdown",
   "metadata": {},
   "source": [
    "## 5. Dictionary\n",
    "\n",
    "Dictionary is another commonly used data type for storing collections of data. It is an orderred collection of ```key:value``` pairs.\n",
    "\n",
    "Example\n",
    "a_dictionary = {\"Canada\":\"Ottawa\", \"Key\":\"Value\"}"
   ]
  },
  {
   "cell_type": "code",
   "execution_count": 262,
   "metadata": {},
   "outputs": [],
   "source": [
    "# Define a dictionary\n",
    "a_dictionary = {\"Canada\":\"Ottawa\"}\n",
    "iss = {'craft':{'iss':{'people':[{'Name':'a1'}, {'Name':'a2'}],\n",
    "                       'position':(34, 656)},\n",
    "                'shenzhou':{'people':[{'Name':\"a1\"}, {'Name':'a2'}],\n",
    "                            'position':(234, 55)}\n",
    "               },\n",
    "        'total':2\n",
    "      }"
   ]
  },
  {
   "cell_type": "code",
   "execution_count": 269,
   "metadata": {},
   "outputs": [
    {
     "name": "stdout",
     "output_type": "stream",
     "text": [
      "dict_keys(['craft', 'total'])\n",
      "dict_keys(['iss', 'shenzhou'])\n",
      "dict_keys(['people', 'position'])\n",
      "[{'Name': 'a1'}, {'Name': 'a2'}]\n",
      "2\n"
     ]
    }
   ],
   "source": [
    "# Challenge, decompose the iss dictionary to print content of each layer.\n",
    "print(iss.keys())\n",
    "print(iss['craft'].keys())\n",
    "print(iss['craft']['iss'].keys())\n",
    "print(iss['craft']['iss'][\"people\"])\n",
    "print(iss['total'])\n"
   ]
  },
  {
   "cell_type": "code",
   "execution_count": 255,
   "metadata": {},
   "outputs": [
    {
     "data": {
      "text/plain": [
       "'Lanzhou'"
      ]
     },
     "execution_count": 255,
     "metadata": {},
     "output_type": "execute_result"
    }
   ],
   "source": [
    "# Read a dictionary element by key\n",
    "province_dict = {'Guangdong' : 'Guangzhou', 'Guangxi' : 'Nanning', 'Tibet' : 'Lhasa', 'Xinjiang' : 'Urumqi', 'Gansu' : 'Lanzhou'}\n",
    "province_dict['Gansu']"
   ]
  },
  {
   "cell_type": "code",
   "execution_count": 149,
   "metadata": {},
   "outputs": [],
   "source": [
    "# Add an additional key and value to the dictionary\n",
    "province_dict['Heilongjiang'] = \"Harbin\"\n",
    "province_dict['Anhui'] = 'Hefei'\n",
    "province_dict[\"Hebei\"] = \"Shijiazhuang\"\n",
    "province_dict['Jilin'] = \"Changchun\"\n",
    "province_dict['Beijing'] = 'Beijing'\n",
    "province_dict['Henan'] = 'Zhenzhou'\n",
    "province_dict['Shaanxi'] = \"Xi'an\""
   ]
  },
  {
   "cell_type": "code",
   "execution_count": 151,
   "metadata": {},
   "outputs": [],
   "source": [
    "# Delete an element from the dictionary\n",
    "del(province_dict['Anhui'])\n"
   ]
  },
  {
   "cell_type": "markdown",
   "metadata": {},
   "source": [
    "### 5.1 Loop a Dictionary\n",
    "\n",
    "Use \n",
    "\n",
    "```python\n",
    "for key, value in <dictionary>.items():\n",
    "    # some tasks\n",
    "```\n",
    "\n",
    "to loop through each element of a dictionary"
   ]
  },
  {
   "cell_type": "code",
   "execution_count": 125,
   "metadata": {},
   "outputs": [
    {
     "name": "stdout",
     "output_type": "stream",
     "text": [
      "Canada Ottawa\n",
      "France Paris\n"
     ]
    }
   ],
   "source": [
    "# Loop a dictionary and print the key and value pair\n",
    "for Key, Value in a_dictionary.items():\n",
    "    print(Key, Value)"
   ]
  },
  {
   "cell_type": "markdown",
   "metadata": {},
   "source": [
    "### 5.2 Checking if a key exists in a dictionary\n",
    "\n",
    "You can use ```in``` operator to check if a key is in a dictionary. Example:\n",
    "\n",
    "```python\n",
    "if <key> in <dictionary>:\n",
    "    # do something\n",
    "```"
   ]
  },
  {
   "cell_type": "code",
   "execution_count": 152,
   "metadata": {},
   "outputs": [
    {
     "name": "stdout",
     "output_type": "stream",
     "text": [
      "not there\n"
     ]
    }
   ],
   "source": [
    "if \"Anhui\" in province_dict:\n",
    "    print(\"The key of Anhui is there\")\n",
    "else:\n",
    "    print(\"not there\")\n"
   ]
  },
  {
   "cell_type": "code",
   "execution_count": 153,
   "metadata": {},
   "outputs": [
    {
     "name": "stdout",
     "output_type": "stream",
     "text": [
      "Guangdong Guangzhou\n",
      "Guangxi Nanning\n",
      "Tibet Lhasa\n",
      "Xinjiang Urumqi\n",
      "Gansu Lanzhou\n",
      "Heilongjiang Harbin\n",
      "Hebei Shijiazhuang\n",
      "Jilin Changchun\n",
      "Beijing Beijing\n",
      "Henan Zhenzhou\n",
      "Shaanxi Xi'an\n"
     ]
    }
   ],
   "source": [
    "# Another way to loop a dictionary\n",
    "for key in province_dict:\n",
    "    print(key, province_dict[key])"
   ]
  },
  {
   "cell_type": "code",
   "execution_count": 236,
   "metadata": {},
   "outputs": [
    {
     "name": "stdout",
     "output_type": "stream",
     "text": [
      "no\n",
      "no\n",
      "no\n",
      "no\n",
      "no\n"
     ]
    }
   ],
   "source": [
    "for key in province_dict:\n",
    "    if key in ['Beijing', 'Shanghai', 'Chongqing','Tianjin']:\n",
    "        print(f\"This city {value} is a manicipality \")\n",
    "    else:\n",
    "        print(\"no\")"
   ]
  }
 ],
 "metadata": {
  "kernelspec": {
   "display_name": "Python 3.8.9 64-bit",
   "language": "python",
   "name": "python3"
  },
  "language_info": {
   "codemirror_mode": {
    "name": "ipython",
    "version": 3
   },
   "file_extension": ".py",
   "mimetype": "text/x-python",
   "name": "python",
   "nbconvert_exporter": "python",
   "pygments_lexer": "ipython3",
   "version": "3.8.9"
  },
  "orig_nbformat": 4,
  "vscode": {
   "interpreter": {
    "hash": "31f2aee4e71d21fbe5cf8b01ff0e069b9275f58929596ceb00d14d90e3e16cd6"
   }
  }
 },
 "nbformat": 4,
 "nbformat_minor": 2
}
