{
 "cells": [
  {
   "cell_type": "markdown",
   "metadata": {},
   "source": [
    "# Data Types"
   ]
  },
  {
   "cell_type": "markdown",
   "metadata": {},
   "source": [
    "## 1. Numbers\n",
    "\n",
    "### 1.1 Integer"
   ]
  },
  {
   "cell_type": "code",
   "execution_count": null,
   "metadata": {},
   "outputs": [],
   "source": [
    "# Define a variable and assign an integer to it\n",
    "cool = 12"
   ]
  },
  {
   "cell_type": "code",
   "execution_count": 4,
   "metadata": {},
   "outputs": [
    {
     "data": {
      "text/plain": [
       "int"
      ]
     },
     "execution_count": 4,
     "metadata": {},
     "output_type": "execute_result"
    }
   ],
   "source": [
    "# use type() to identify the data type of the variable you just created\n",
    "cool = 12\n",
    "type(cool)"
   ]
  },
  {
   "cell_type": "markdown",
   "metadata": {},
   "source": [
    "### 1.2 Float"
   ]
  },
  {
   "cell_type": "code",
   "execution_count": 5,
   "metadata": {},
   "outputs": [
    {
     "name": "stdout",
     "output_type": "stream",
     "text": [
      "99.99\n"
     ]
    }
   ],
   "source": [
    "# Define a variable  and assign a float number\n",
    "num1 = 99.99\n",
    "print(num1)\n"
   ]
  },
  {
   "cell_type": "markdown",
   "metadata": {},
   "source": [
    "## 2. String"
   ]
  },
  {
   "cell_type": "code",
   "execution_count": 6,
   "metadata": {},
   "outputs": [
    {
     "name": "stdout",
     "output_type": "stream",
     "text": [
      "watermelon\n"
     ]
    }
   ],
   "source": [
    "# Define a variable and assign a string of more than 10 characters\n",
    "rad = \"watermelon\"\n",
    "print(rad)"
   ]
  },
  {
   "cell_type": "markdown",
   "metadata": {},
   "source": [
    "### 2.1 Indexing and Slicing Strings\n",
    "\n",
    "Indexing is used to obtain individual elements. Slicing: Slicing is used to obtain a sequence of elements. Indexing and slicing is not only used in strings, but also on list, tuple, range object, numpy arrays, etc. \n",
    "\n",
    "Example of indexing: \n",
    "\n",
    "```python\n",
    "a[1] # 2nd element of variable a\n",
    "```\n",
    " \n",
    "Example of slicing:\n",
    "\n",
    "```python\n",
    "a[2:5] # 3rd to 6th element of variable a\n",
    "```"
   ]
  },
  {
   "cell_type": "code",
   "execution_count": 16,
   "metadata": {},
   "outputs": [
    {
     "data": {
      "text/plain": [
       "'e'"
      ]
     },
     "execution_count": 16,
     "metadata": {},
     "output_type": "execute_result"
    }
   ],
   "source": [
    "# Use indexing to print the 4th character\n",
    "String_a = \"watermelon\"\n",
    "String_a[3]"
   ]
  },
  {
   "cell_type": "code",
   "execution_count": 18,
   "metadata": {},
   "outputs": [
    {
     "data": {
      "text/plain": [
       "'atermel'"
      ]
     },
     "execution_count": 18,
     "metadata": {},
     "output_type": "execute_result"
    }
   ],
   "source": [
    "# Use slicing to print the 2nd to the 8th characters\n",
    "String_a = \"watermelon\"\n",
    "String_a[1:8]"
   ]
  },
  {
   "cell_type": "markdown",
   "metadata": {},
   "source": [
    "### 2.2 Loop on strings"
   ]
  },
  {
   "cell_type": "code",
   "execution_count": 20,
   "metadata": {},
   "outputs": [
    {
     "name": "stdout",
     "output_type": "stream",
     "text": [
      "w\n",
      "a\n",
      "t\n",
      "e\n",
      "r\n",
      "m\n",
      "e\n",
      "l\n",
      "o\n",
      "n\n"
     ]
    }
   ],
   "source": [
    "# use for loop to loop through the string and print one character at a time.\n",
    "for string_a in \"watermelon\":\n",
    "    print(string_a)\n"
   ]
  },
  {
   "cell_type": "markdown",
   "metadata": {},
   "source": [
    "### 2.3 Multi-line string"
   ]
  },
  {
   "cell_type": "code",
   "execution_count": 25,
   "metadata": {},
   "outputs": [
    {
     "name": "stdout",
     "output_type": "stream",
     "text": [
      "watermelon\n",
      "are cool.\n"
     ]
    }
   ],
   "source": [
    "# Define a variable with multi-line string\n",
    "string_b = \"\"\"watermelon\n",
    "are cool.\"\"\"\n",
    "print(string_b)"
   ]
  },
  {
   "cell_type": "markdown",
   "metadata": {},
   "source": [
    "### 2.4 Combine string"
   ]
  },
  {
   "cell_type": "code",
   "execution_count": 27,
   "metadata": {},
   "outputs": [
    {
     "data": {
      "text/plain": [
       "'I want some money'"
      ]
     },
     "execution_count": 27,
     "metadata": {},
     "output_type": "execute_result"
    }
   ],
   "source": [
    "# Use + to stitch two strings together\n",
    "\"I want\" + \" some money\""
   ]
  },
  {
   "cell_type": "markdown",
   "metadata": {},
   "source": [
    "### 2.5 String Manipulation Methods\n",
    "\n",
    "We've use several string manipulation methods. Let's summarize them here:\n",
    "\n",
    "|Method Name | Description |\n",
    "|------|---------|\n",
    "| split()   | Split a string with specific character |\n",
    "| lower()   | Convert string to lower case |\n",
    "| upper()   | Convert string tp upper case |\n",
    "| isupper() | Return True if string is all upper case |\n",
    "| islower() | Return True if string is all lower case |\n",
    "| startwith() | Return True if the string start with the given string |\n",
    "| endwidth() | Return True if the string end with the given string |\n",
    "\n",
    "* Strings are objects\n",
    "* Way to call method on object is object_name.method_name() \n",
    "\n",
    "Examples:\n",
    "```python\n",
    "\"Hello world\".startwith(\"Hello\")\n",
    "# True\n",
    "\"abc124\".endwidth(\"4\")\n",
    "# True\n",
    "```"
   ]
  },
  {
   "cell_type": "code",
   "execution_count": 55,
   "metadata": {},
   "outputs": [],
   "source": [
    "# Test each method listed above\n",
    "#split the name into first name and last name\n",
    "name = \"Harrison Jian\".split(\" \")\n",
    "first_name = name[0]\n",
    "last_name = name[1]"
   ]
  },
  {
   "cell_type": "code",
   "execution_count": 74,
   "metadata": {},
   "outputs": [
    {
     "data": {
      "text/plain": [
       "True"
      ]
     },
     "execution_count": 74,
     "metadata": {},
     "output_type": "execute_result"
    }
   ],
   "source": [
    "\"RANDOM TEXT\".lower() #change to lower\n",
    "\"random text\".upper() #CHange to upper\n",
    "\"lower text\".islower() #if text is lower it is true\n",
    "\"RANDOM TEXT TWO\".isupper() # if text is upper it is true\n",
    "\"Hello World\".startswith(\"Hello\") # if starts with the word in the () of startswith it is true\n",
    "\"Hello World\".endswith(\"World\") # if ends with the word in the () of endswith it is true"
   ]
  },
  {
   "cell_type": "markdown",
   "metadata": {},
   "source": [
    "### 2.6 ```in``` and ```not in``` Operator\n",
    "\n",
    "```in``` and ```not in``` checks if the given element or sequence exists in another sequence. \n",
    "\n",
    "Example:\n",
    "\n",
    "```python\n",
    "'a' in 'abc'\n",
    "# True\n",
    "'d' not in 'abc'\n",
    "# True\n",
    "```"
   ]
  },
  {
   "cell_type": "code",
   "execution_count": 79,
   "metadata": {},
   "outputs": [
    {
     "data": {
      "text/plain": [
       "True"
      ]
     },
     "execution_count": 79,
     "metadata": {},
     "output_type": "execute_result"
    }
   ],
   "source": [
    "'ice' in 'iceberg'\n",
    "#True\n",
    "'sleep' in 'steep'\n",
    "#False\n",
    "'apple' not in 'orange tree'\n",
    "#True"
   ]
  },
  {
   "cell_type": "markdown",
   "metadata": {},
   "source": [
    "## 3. List\n",
    "\n",
    "List is one of the basic data type in Python to store collections of data.\n",
    "\n",
    "* List are ordered\n",
    "* List elements can be mixed datatype\n",
    "* List element can be accessed by indexing and slicing"
   ]
  },
  {
   "cell_type": "code",
   "execution_count": 84,
   "metadata": {},
   "outputs": [],
   "source": [
    "# Define a list with 5 elements\n",
    "list_word = [\"Toy car\", \"homework with an F on it\", \"Yogurt\", \"Lego box\", \"E\"]"
   ]
  },
  {
   "cell_type": "code",
   "execution_count": 88,
   "metadata": {},
   "outputs": [
    {
     "data": {
      "text/plain": [
       "['homework with an F on it', 'Yogurt', 'Lego box']"
      ]
     },
     "execution_count": 88,
     "metadata": {},
     "output_type": "execute_result"
    }
   ],
   "source": [
    "# Use index and slicing to print the 2nd and 2 to 4 elements of the list\n",
    "list_word[1]\n",
    "list_word[1:4]"
   ]
  },
  {
   "cell_type": "markdown",
   "metadata": {},
   "source": [
    "### 3.1 List Manipulation"
   ]
  },
  {
   "cell_type": "code",
   "execution_count": 90,
   "metadata": {},
   "outputs": [
    {
     "data": {
      "text/plain": [
       "5"
      ]
     },
     "execution_count": 90,
     "metadata": {},
     "output_type": "execute_result"
    }
   ],
   "source": [
    "# What is the length of the list you just created?\n",
    "len(list_word)"
   ]
  },
  {
   "cell_type": "code",
   "execution_count": 91,
   "metadata": {},
   "outputs": [
    {
     "data": {
      "text/plain": [
       "['Toy car', 'homework with an F on it', '69', 'Lego box', 'E']"
      ]
     },
     "execution_count": 91,
     "metadata": {},
     "output_type": "execute_result"
    }
   ],
   "source": [
    "# Change the value of the 3rd element in the list\n",
    "list_word[2] = \"69\"\n",
    "list_word"
   ]
  },
  {
   "cell_type": "code",
   "execution_count": 97,
   "metadata": {},
   "outputs": [
    {
     "data": {
      "text/plain": [
       "['Toy car',\n",
       " 'homework with an F on it',\n",
       " '69',\n",
       " 'Lego box',\n",
       " 'E',\n",
       " 'Greek yogurt',\n",
       " 'Greek yogurt',\n",
       " 'Greek yogurt',\n",
       " 'Greek yogurt',\n",
       " 'Greek yogurt']"
      ]
     },
     "execution_count": 97,
     "metadata": {},
     "output_type": "execute_result"
    }
   ],
   "source": [
    "# Add another element to the end of the list\n",
    "list_word.append(\"Greek yogurt\")\n",
    "list_word\n"
   ]
  },
  {
   "cell_type": "code",
   "execution_count": 104,
   "metadata": {},
   "outputs": [
    {
     "data": {
      "text/plain": [
       "['Toy car', 'ice cream', 'homework with an F on it', 'Yogurt', 'Lego box', 'E']"
      ]
     },
     "execution_count": 104,
     "metadata": {},
     "output_type": "execute_result"
    }
   ],
   "source": [
    "# Insert an element at the 2nd position of the list\n",
    "list_word.insert(1, \"ice cream\")\n",
    "list_word"
   ]
  },
  {
   "cell_type": "markdown",
   "metadata": {},
   "source": [
    "### 3.2 ```in``` and ```not in``` Operator\n",
    "\n",
    "```in``` and ```not in``` operator applies to list just the same as strings"
   ]
  },
  {
   "cell_type": "code",
   "execution_count": 106,
   "metadata": {},
   "outputs": [
    {
     "data": {
      "text/plain": [
       "True"
      ]
     },
     "execution_count": 106,
     "metadata": {},
     "output_type": "execute_result"
    }
   ],
   "source": [
    "# use in and not in operator to check if an elelment exists in the list you defined\n",
    "'Greek yogurt' in list_word\n",
    "# False\n",
    "'homework with an A on it' not in list_word\n",
    "# True"
   ]
  },
  {
   "cell_type": "markdown",
   "metadata": {},
   "source": [
    "### 3.3 For loop on list"
   ]
  },
  {
   "cell_type": "code",
   "execution_count": 110,
   "metadata": {},
   "outputs": [
    {
     "name": "stdout",
     "output_type": "stream",
     "text": [
      "Toy car\n",
      "homework with an F on it\n",
      "Yogurt\n",
      "Lego box\n",
      "E\n"
     ]
    },
    {
     "data": {
      "text/plain": [
       "['Toy car', 'homework with an F on it', 'Yogurt', 69, 'E']"
      ]
     },
     "execution_count": 110,
     "metadata": {},
     "output_type": "execute_result"
    }
   ],
   "source": [
    "# Loop through the list you created and print each element in the loop\n",
    "for a in list_word:\n",
    "    print(a)\n",
    "\n",
    "# loop through the index of a list\n",
    "for i in range(len(list_word)):\n",
    "    if i == 3:\n",
    "        list_word[i] = 69\n",
    "list_word"
   ]
  },
  {
   "cell_type": "markdown",
   "metadata": {},
   "source": [
    "#"
   ]
  },
  {
   "cell_type": "markdown",
   "metadata": {},
   "source": [
    "## 4. Tuple"
   ]
  },
  {
   "cell_type": "code",
   "execution_count": 6,
   "metadata": {},
   "outputs": [
    {
     "data": {
      "text/plain": [
       "tuple"
      ]
     },
     "execution_count": 6,
     "metadata": {},
     "output_type": "execute_result"
    }
   ],
   "source": [
    "#Define a tuple\n",
    "a_tuple = (78, 43, 19)\n",
    "type(a_tuple)"
   ]
  },
  {
   "cell_type": "code",
   "execution_count": 3,
   "metadata": {},
   "outputs": [],
   "source": [
    "## 4. Tuple\n",
    "\n",
    "# Tuple is a sequence with multiple events like a list\n",
    "# Tuple is not orderred \n",
    "# Tuple cannot be changed\n",
    "\n"
   ]
  },
  {
   "cell_type": "code",
   "execution_count": 8,
   "metadata": {},
   "outputs": [
    {
     "data": {
      "text/plain": [
       "(43, 19)"
      ]
     },
     "execution_count": 8,
     "metadata": {},
     "output_type": "execute_result"
    }
   ],
   "source": [
    "# Write an example to indexing and slicing for accessing tuple element\n",
    "a_tuple[1:4]\n"
   ]
  },
  {
   "cell_type": "markdown",
   "metadata": {},
   "source": [
    "## 5. Dictionary\n",
    "\n",
    "Dictionary is another commonly used data type for storing collections of data. It is an orderred collection of ```key:value``` pairs."
   ]
  },
  {
   "cell_type": "code",
   "execution_count": 10,
   "metadata": {},
   "outputs": [
    {
     "name": "stdout",
     "output_type": "stream",
     "text": [
      "{'Apple': 'fruit', 'Pumpkin': 'vegetable'}\n"
     ]
    }
   ],
   "source": [
    "# Define a dictionary\n",
    "a_dictionary = {\"Apple\":\"fruit\", \"Pineapple\": \"vegetable\"}\n",
    "print(a_dictionary)"
   ]
  },
  {
   "cell_type": "code",
   "execution_count": 11,
   "metadata": {},
   "outputs": [],
   "source": [
    "iss = {'craft':{'iss':{'people':[{'Name':'a1'}, {'Name':'a2'}],\n",
    "                       'position':(34, 656)},\n",
    "                'shenzhou':{'people':[{'Name':\"a1\"}, {'Name':'a2'}],\n",
    "                            'position':(234, 55)}\n",
    "               },\n",
    "        'total':2\n",
    "      }"
   ]
  },
  {
   "cell_type": "code",
   "execution_count": 15,
   "metadata": {},
   "outputs": [
    {
     "name": "stdout",
     "output_type": "stream",
     "text": [
      "dict_keys(['craft', 'total'])\n",
      "dict_keys(['iss', 'shenzhou'])\n"
     ]
    }
   ],
   "source": [
    "# challenge, decompose the iss dictionary to print the content of each layer.\n",
    "print(iss.keys())\n",
    "print(iss['craft'].keys())"
   ]
  },
  {
   "cell_type": "code",
   "execution_count": 19,
   "metadata": {},
   "outputs": [
    {
     "data": {
      "text/plain": [
       "'fruit'"
      ]
     },
     "execution_count": 19,
     "metadata": {},
     "output_type": "execute_result"
    }
   ],
   "source": [
    "# Read a dictionary element by key\n",
    "fruit_dictionary = {\"Apple\":\"fruit\", \"Pineapple\": \"vegetable\"}\n",
    "fruit_dictionary[\"Apple\"]"
   ]
  },
  {
   "cell_type": "code",
   "execution_count": 20,
   "metadata": {},
   "outputs": [
    {
     "data": {
      "text/plain": [
       "{'Apple': 'fruit', 'Pineapple': 'vegetable', 'banana': 'Fruit'}"
      ]
     },
     "execution_count": 20,
     "metadata": {},
     "output_type": "execute_result"
    }
   ],
   "source": [
    "# Add an additional key and value to the dictionary\n",
    "fruit_dictionary = {\"Apple\":\"fruit\", \"Pineapple\": \"vegetable\"}\n",
    "fruit_dictionary[\"banana\"] = \"Fruit\"\n",
    "fruit_dictionary"
   ]
  },
  {
   "cell_type": "code",
   "execution_count": 49,
   "metadata": {},
   "outputs": [
    {
     "data": {
      "text/plain": [
       "{'Pineapple': 'vegetable'}"
      ]
     },
     "execution_count": 49,
     "metadata": {},
     "output_type": "execute_result"
    }
   ],
   "source": [
    "# Delete an element from the dictionary\n",
    "fruit_dictionary = {\"Apple\":\"fruit\", \"Pineapple\": \"vegetable\"}\n",
    "del fruit_dictionary[\"Apple\"] # deletes its completly\n",
    "fruit_dictionary"
   ]
  },
  {
   "cell_type": "code",
   "execution_count": 40,
   "metadata": {},
   "outputs": [
    {
     "name": "stdout",
     "output_type": "stream",
     "text": [
      "Apple fruit\n",
      "Pineapple vegetable\n"
     ]
    }
   ],
   "source": [
    "# Loop a dictionary and print the key and value pair\n",
    "fruit_dictionary = {\"Apple\":\"fruit\", \"Pineapple\": \"vegetable\"}\n",
    "for x, y in fruit_dictionary.items():\n",
    "    print(x, y)"
   ]
  },
  {
   "cell_type": "markdown",
   "metadata": {},
   "source": [
    "### 5.2 Checking if a key exists in a dictionary\n",
    "\n",
    "You can use ```in``` operator to check if a key is in a dictionary. Example:\n",
    "\n",
    "```python\n",
    "if <key> in <dictionary>:\n",
    "    # do something\n",
    "```"
   ]
  },
  {
   "cell_type": "code",
   "execution_count": 98,
   "metadata": {},
   "outputs": [],
   "source": [
    "province_dict = {'Guangdong' : 'Guangzhou', 'Guangxi' : 'Nanning', 'Tibet' : 'Lhasa', 'Xinjiang' : 'Urumqi', 'Gansu' : 'Lanzhou', \"Beijing\":'Beijing', \"Shanghai\":\"Shanghai\", \"Chogqing\":\"Chogqing\", \"Tianjin\":\"Tianjin\"}"
   ]
  },
  {
   "cell_type": "code",
   "execution_count": 46,
   "metadata": {},
   "outputs": [
    {
     "name": "stdout",
     "output_type": "stream",
     "text": [
      "An apple a day keeps the doctor away.\n"
     ]
    }
   ],
   "source": [
    "# Loop through your province_dictionary, if key in ['Beijing', 'Shanghai'], \n",
    "# print \"this city <city name> is a municipality\"\n",
    "if \"Apple\" in fruit_dictionary:\n",
    "    print(\"An apple a day keeps the doctor away.\")"
   ]
  },
  {
   "cell_type": "code",
   "execution_count": 104,
   "metadata": {},
   "outputs": [
    {
     "name": "stdout",
     "output_type": "stream",
     "text": [
      "Guangdong is not a municipality city\n",
      "Guangxi is not a municipality city\n",
      "Tibet is not a municipality city\n",
      "Xinjiang is not a municipality city\n",
      "Gansu is not a municipality city\n",
      "Beijing is a municipality city\n",
      "Shanghai is a municipality city\n",
      "Chogqing is a municipality city\n",
      "Tianjin is a municipality city\n"
     ]
    }
   ],
   "source": [
    "value = [\"Beijing\", \"Shanghai\", \"Chogqing\", \"Tianjin\"]\n",
    "\n",
    "for value in province_dict:\n",
    "    if value in [\"Beijing\", \"Shanghai\", \"Chogqing\", \"Tianjin\"]:\n",
    "         print(f\"{value} is a municipality city\")\n",
    "    else:\n",
    "        print(f\"{value} is not a municipality city\")"
   ]
  }
 ],
 "metadata": {
  "kernelspec": {
   "display_name": "Python 3.9.6 64-bit",
   "language": "python",
   "name": "python3"
  },
  "language_info": {
   "codemirror_mode": {
    "name": "ipython",
    "version": 3
   },
   "file_extension": ".py",
   "mimetype": "text/x-python",
   "name": "python",
   "nbconvert_exporter": "python",
   "pygments_lexer": "ipython3",
   "version": "3.9.6"
  },
  "orig_nbformat": 4,
  "vscode": {
   "interpreter": {
    "hash": "31f2aee4e71d21fbe5cf8b01ff0e069b9275f58929596ceb00d14d90e3e16cd6"
   }
  }
 },
 "nbformat": 4,
 "nbformat_minor": 2
}
